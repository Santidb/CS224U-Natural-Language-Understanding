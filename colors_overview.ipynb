{
 "cells": [
  {
   "cell_type": "markdown",
   "metadata": {},
   "source": [
    "# Pragmatic color describers"
   ]
  },
  {
   "cell_type": "code",
   "execution_count": 1,
   "metadata": {},
   "outputs": [],
   "source": [
    "__author__ = \"Christopher Potts\"\n",
    "__version__ = \"CS224u, Stanford, Spring 2021\""
   ]
  },
  {
   "cell_type": "markdown",
   "metadata": {},
   "source": [
    "## Contents\n",
    "\n",
    "1. [Overview](#Overview)\n",
    "1. [Set-up](#Set-up)\n",
    "1. [The corpus](#The-corpus)\n",
    "  1. [Corpus reader](#Corpus-reader)\n",
    "  1. [ColorsCorpusExample instances](#ColorsCorpusExample-instances)\n",
    "    1. [Displaying examples](#Displaying-examples)\n",
    "    1. [Color representations](#Color-representations)\n",
    "    1. [Utterance texts](#Utterance-texts)\n",
    "  1. [Far, Split, and Close conditions](#Far,-Split,-and-Close-conditions)\n",
    "1. [Toy problems for development work](#Toy-problems-for-development-work)\n",
    "1. [Core model](#Core-model)\n",
    "  1. [Toy dataset illustration](#Toy-dataset-illustration)\n",
    "  1. [Predicting sequences](#Predicting-sequences)\n",
    "  1. [Listener-based evaluation](#Listener-based-evaluation)\n",
    "  1. [Other prediction and evaluation methods](#Other-prediction-and-evaluation-methods)\n",
    "  1. [Cross-validation](#Cross-validation)\n",
    "1. [Baseline SCC model](#Baseline-SCC-model)\n",
    "1. [Modifying the core model](#Modifying-the-core-model)\n",
    "  1. [Illustration: LSTM Cells](#Illustration:-LSTM-Cells)\n",
    "  1. [Illustration: Deeper models](#Illustration:-Deeper-models)"
   ]
  },
  {
   "cell_type": "markdown",
   "metadata": {},
   "source": [
    "## Overview\n",
    "\n",
    "This notebook is part of our unit on grounding. It illustrates core concepts from the unit, and it provides useful background material for the associated homework and bake-off."
   ]
  },
  {
   "cell_type": "markdown",
   "metadata": {},
   "source": [
    "## Set-up"
   ]
  },
  {
   "cell_type": "code",
   "execution_count": 2,
   "metadata": {},
   "outputs": [],
   "source": [
    "from colors import ColorsCorpusReader\n",
    "import os\n",
    "import pandas as pd\n",
    "from sklearn.model_selection import train_test_split\n",
    "import torch\n",
    "from torch_color_describer import (\n",
    "    ContextualColorDescriber, create_example_dataset)\n",
    "import utils\n",
    "from utils import START_SYMBOL, END_SYMBOL, UNK_SYMBOL"
   ]
  },
  {
   "cell_type": "code",
   "execution_count": 3,
   "metadata": {},
   "outputs": [],
   "source": [
    "utils.fix_random_seeds()"
   ]
  },
  {
   "cell_type": "markdown",
   "metadata": {},
   "source": [
    "The [Stanford English Colors in Context corpus](https://cocolab.stanford.edu/datasets/colors.html) (SCC) is included in the data distribution for this course. If you store the data in a non-standard place, you'll need to update the following:"
   ]
  },
  {
   "cell_type": "code",
   "execution_count": 4,
   "metadata": {},
   "outputs": [],
   "source": [
    "COLORS_SRC_FILENAME = os.path.join(\n",
    "    \"data\", \"colors\", \"filteredCorpus.csv\")"
   ]
  },
  {
   "cell_type": "markdown",
   "metadata": {},
   "source": [
    "## The corpus"
   ]
  },
  {
   "cell_type": "markdown",
   "metadata": {},
   "source": [
    "The SCC corpus is based in a two-player interactive game. The two players share a context consisting of three color patches, with the display order randomized between them so that they can't use positional information when communicating.\n",
    "\n",
    "The __speaker__ is privately assigned a target color and asked to produce a description of it that will enable the __listener__ to identify the speaker's target. The listener makes a choice based on the speaker's message, and the two  succeed if and only if the listener identifies the target correctly.\n",
    "\n",
    "In the game, the two players played repeated reference games and could communicate with each other in a free-form way. This opens up the possibility of modeling these repeated interactions as task-oriented dialogues. However, for this unit, we'll ignore most of this structure. We'll treat the corpus as a bunch of independent reference games played by anonymous players, and we will ignore the listener and their choices entirely.\n",
    "\n",
    "For the bake-off, we will be distributing a separate test set. Thus, all of the data in the SCC can be used for exploration and development."
   ]
  },
  {
   "cell_type": "markdown",
   "metadata": {},
   "source": [
    "### Corpus reader"
   ]
  },
  {
   "cell_type": "markdown",
   "metadata": {},
   "source": [
    "The corpus reader class is `ColorsCorpusReader` in `colors.py`. The reader's primary function is to let you iterate over corpus examples:"
   ]
  },
  {
   "cell_type": "code",
   "execution_count": 5,
   "metadata": {},
   "outputs": [],
   "source": [
    "corpus = ColorsCorpusReader(\n",
    "    COLORS_SRC_FILENAME,\n",
    "    word_count=None,\n",
    "    normalize_colors=True)"
   ]
  },
  {
   "cell_type": "markdown",
   "metadata": {},
   "source": [
    "The two keyword arguments have their default values here. \n",
    "\n",
    "* If you supply `word_count` with an interger value, it will restrict to just examples where the utterance has that number of words (using a whitespace heuristic). This creates smaller corpora that are useful for development.\n",
    "\n",
    "* The colors in the corpus are in [HLS format](https://en.wikipedia.org/wiki/HSL_and_HSV). With `normalize_colors=False`, the first (hue) value is an integer between 1 and 360 inclusive, and the L (lightness) and S (saturation) values are between 1 and 100 inclusive. With `normalize_colors=True`, these values are all scaled to between 0 and 1 inclusive. The default is `normalize_colors=True` because this is a better choice for all the machine learning models we'll consider."
   ]
  },
  {
   "cell_type": "code",
   "execution_count": 9,
   "metadata": {},
   "outputs": [],
   "source": [
    "examples = list(corpus.read())"
   ]
  },
  {
   "cell_type": "markdown",
   "metadata": {},
   "source": [
    "We can verify that we read in the same number of examples as reported in [Monroe et al. 2017](https://transacl.org/ojs/index.php/tacl/article/view/1142):"
   ]
  },
  {
   "cell_type": "code",
   "execution_count": 10,
   "metadata": {},
   "outputs": [
    {
     "data": {
      "text/plain": [
       "46994"
      ]
     },
     "execution_count": 10,
     "metadata": {},
     "output_type": "execute_result"
    }
   ],
   "source": [
    "# Should be 46994:\n",
    "\n",
    "len(examples)"
   ]
  },
  {
   "cell_type": "code",
   "execution_count": 21,
   "metadata": {},
   "outputs": [
    {
     "name": "stdout",
     "output_type": "stream",
     "text": [
      "Mud brown\n"
     ]
    },
    {
     "data": {
      "image/png": "[encoded data removed]",
      "text/plain": [
       "<Figure size 216x72 with 3 Axes>"
      ]
     },
     "metadata": {
      "needs_background": "light"
     },
     "output_type": "display_data"
    }
   ],
   "source": [
    "# Showing off an example\n",
    "\n",
    "examples[5].display()"
   ]
  },
  {
   "cell_type": "markdown",
   "metadata": {},
   "source": [
    "### ColorsCorpusExample instances"
   ]
  },
  {
   "cell_type": "markdown",
   "metadata": {},
   "source": [
    "The examples are `ColorsCorpusExample` instances:"
   ]
  },
  {
   "cell_type": "code",
   "execution_count": 26,
   "metadata": {},
   "outputs": [],
   "source": [
    "ex1 = next(corpus.read())"
   ]
  },
  {
   "cell_type": "markdown",
   "metadata": {},
   "source": [
    "These objects have a lot of attributes and methods designed to help you study the corpus and use it for our machine learning tasks. Let's review some highlights."
   ]
  },
  {
   "cell_type": "markdown",
   "metadata": {},
   "source": [
    "#### Displaying examples"
   ]
  },
  {
   "cell_type": "markdown",
   "metadata": {},
   "source": [
    "You can see what the speaker saw, with the utterance they chose printed above the patches:"
   ]
  },
  {
   "cell_type": "code",
   "execution_count": 27,
   "metadata": {},
   "outputs": [
    {
     "name": "stdout",
     "output_type": "stream",
     "text": [
      "The darker blue one\n"
     ]
    },
    {
     "data": {
      "image/png": "[encoded data removed]",
      "text/plain": [
       "<Figure size 216x72 with 3 Axes>"
      ]
     },
     "metadata": {
      "needs_background": "light"
     },
     "output_type": "display_data"
    }
   ],
   "source": [
    "ex1.display(typ='speaker')"
   ]
  },
  {
   "cell_type": "markdown",
   "metadata": {},
   "source": [
    "This is the original order of patches for the speaker. The target happens to be the leftmost patch, as indicated by the black box around it.\n",
    "\n",
    "Here's what the listener saw, with the speaker's message printed above the patches:"
   ]
  },
  {
   "cell_type": "code",
   "execution_count": 28,
   "metadata": {},
   "outputs": [
    {
     "name": "stdout",
     "output_type": "stream",
     "text": [
      "The darker blue one\n"
     ]
    },
    {
     "data": {
      "image/png": "[encoded data removed]",
      "text/plain": [
       "<Figure size 216x72 with 3 Axes>"
      ]
     },
     "metadata": {
      "needs_background": "light"
     },
     "output_type": "display_data"
    }
   ],
   "source": [
    "ex1.display(typ='listener')"
   ]
  },
  {
   "cell_type": "markdown",
   "metadata": {},
   "source": [
    "The listener isn't shown the target, of course, so no patches are highlighted."
   ]
  },
  {
   "cell_type": "markdown",
   "metadata": {},
   "source": [
    "If `display` is called with no arguments, then the target is placed in the final position and the other two are given in an order determined by the corpus metadata:"
   ]
  },
  {
   "cell_type": "code",
   "execution_count": 29,
   "metadata": {},
   "outputs": [
    {
     "name": "stdout",
     "output_type": "stream",
     "text": [
      "The darker blue one\n"
     ]
    },
    {
     "data": {
      "image/png": "[encoded data removed]",
      "text/plain": [
       "<Figure size 216x72 with 3 Axes>"
      ]
     },
     "metadata": {
      "needs_background": "light"
     },
     "output_type": "display_data"
    }
   ],
   "source": [
    "ex1.display()"
   ]
  },
  {
   "cell_type": "markdown",
   "metadata": {},
   "source": [
    "This is the representation order we use for our machine learning models."
   ]
  },
  {
   "cell_type": "markdown",
   "metadata": {},
   "source": [
    "#### Color representations"
   ]
  },
  {
   "cell_type": "markdown",
   "metadata": {},
   "source": [
    "For machine learning, we'll often need to access the color representations directly. The primary attribute for this is `colors`:"
   ]
  },
  {
   "cell_type": "code",
   "execution_count": 30,
   "metadata": {},
   "outputs": [
    {
     "data": {
      "text/plain": [
       "[[0.7861111111111111, 0.5, 0.87],\n",
       " [0.6888888888888889, 0.5, 0.92],\n",
       " [0.6277777777777778, 0.5, 0.81]]"
      ]
     },
     "execution_count": 30,
     "metadata": {},
     "output_type": "execute_result"
    }
   ],
   "source": [
    "ex1.colors"
   ]
  },
  {
   "cell_type": "markdown",
   "metadata": {},
   "source": [
    "In this display order, the third element is the target color and the first two are the distractors. The attributes `speaker_context` and `listener_context` return the same colors but in the order that those players saw them. For example:"
   ]
  },
  {
   "cell_type": "code",
   "execution_count": 31,
   "metadata": {},
   "outputs": [
    {
     "data": {
      "text/plain": [
       "[[0.6277777777777778, 0.5, 0.81],\n",
       " [0.7861111111111111, 0.5, 0.87],\n",
       " [0.6888888888888889, 0.5, 0.92]]"
      ]
     },
     "execution_count": 31,
     "metadata": {},
     "output_type": "execute_result"
    }
   ],
   "source": [
    "ex1.speaker_context"
   ]
  },
  {
   "cell_type": "markdown",
   "metadata": {},
   "source": [
    "#### Utterance texts"
   ]
  },
  {
   "cell_type": "markdown",
   "metadata": {},
   "source": [
    "Utterances are just strings: "
   ]
  },
  {
   "cell_type": "code",
   "execution_count": 32,
   "metadata": {},
   "outputs": [
    {
     "data": {
      "text/plain": [
       "'The darker blue one'"
      ]
     },
     "execution_count": 32,
     "metadata": {},
     "output_type": "execute_result"
    }
   ],
   "source": [
    "ex1.contents"
   ]
  },
  {
   "cell_type": "markdown",
   "metadata": {},
   "source": [
    "There are cases where the speaker made a sequences of utterances for the same trial. We follow [Monroe et al. 2017](https://transacl.org/ojs/index.php/tacl/article/view/1142) in concatenating these into a single utterance. To preserve the original information, the individual turns are separated by `\" ### \"`. Example 3 is the first with this property – let's check it out:"
   ]
  },
  {
   "cell_type": "code",
   "execution_count": 33,
   "metadata": {},
   "outputs": [],
   "source": [
    "ex3 = examples[2]"
   ]
  },
  {
   "cell_type": "code",
   "execution_count": 34,
   "metadata": {},
   "outputs": [
    {
     "data": {
      "text/plain": [
       "'Medium pink ### the medium dark one'"
      ]
     },
     "execution_count": 34,
     "metadata": {},
     "output_type": "execute_result"
    }
   ],
   "source": [
    "ex3.contents"
   ]
  },
  {
   "cell_type": "markdown",
   "metadata": {},
   "source": [
    "The method `parse_turns` will parse this into individual turns:"
   ]
  },
  {
   "cell_type": "code",
   "execution_count": 35,
   "metadata": {},
   "outputs": [
    {
     "data": {
      "text/plain": [
       "['Medium pink', 'the medium dark one']"
      ]
     },
     "execution_count": 35,
     "metadata": {},
     "output_type": "execute_result"
    }
   ],
   "source": [
    "ss"
   ]
  },
  {
   "cell_type": "markdown",
   "metadata": {},
   "source": [
    "For examples consisting of a single turn, `parse_turns` returns a list of length 1:"
   ]
  },
  {
   "cell_type": "code",
   "execution_count": 36,
   "metadata": {},
   "outputs": [
    {
     "data": {
      "text/plain": [
       "['The darker blue one']"
      ]
     },
     "execution_count": 36,
     "metadata": {},
     "output_type": "execute_result"
    }
   ],
   "source": [
    "ex1.parse_turns()"
   ]
  },
  {
   "cell_type": "markdown",
   "metadata": {},
   "source": [
    "### Far, Split, and Close conditions"
   ]
  },
  {
   "cell_type": "markdown",
   "metadata": {},
   "source": [
    "The SCC contains three conditions:\n",
    "    \n",
    "__Far condition__: All three colors are far apart in color space.  Example:"
   ]
  },
  {
   "cell_type": "code",
   "execution_count": 39,
   "metadata": {},
   "outputs": [
    {
     "name": "stdout",
     "output_type": "stream",
     "text": [
      "Condition type: far\n",
      "purple\n"
     ]
    },
    {
     "data": {
      "image/png": "[encoded data removed]",
      "text/plain": [
       "<Figure size 216x72 with 3 Axes>"
      ]
     },
     "metadata": {
      "needs_background": "light"
     },
     "output_type": "display_data"
    }
   ],
   "source": [
    "print(\"Condition type:\", examples[1].condition)\n",
    "\n",
    "examples[1].display()"
   ]
  },
  {
   "cell_type": "markdown",
   "metadata": {},
   "source": [
    "__Split condition__: The target is close to one of the distractors, and the other is far away from both of them. Example:"
   ]
  },
  {
   "cell_type": "code",
   "execution_count": 40,
   "metadata": {},
   "outputs": [
    {
     "name": "stdout",
     "output_type": "stream",
     "text": [
      "Condition type: split\n",
      "lime\n"
     ]
    },
    {
     "data": {
      "image/png": "[encoded data removed]",
      "text/plain": [
       "<Figure size 216x72 with 3 Axes>"
      ]
     },
     "metadata": {
      "needs_background": "light"
     },
     "output_type": "display_data"
    }
   ],
   "source": [
    "print(\"Condition type:\", examples[3].condition)\n",
    "\n",
    "examples[3].display()"
   ]
  },
  {
   "cell_type": "markdown",
   "metadata": {},
   "source": [
    "__Close condition__: The target is similar to both distractors. Example:"
   ]
  },
  {
   "cell_type": "code",
   "execution_count": 41,
   "metadata": {},
   "outputs": [
    {
     "name": "stdout",
     "output_type": "stream",
     "text": [
      "Condition type: close\n",
      "Medium pink ### the medium dark one\n"
     ]
    },
    {
     "data": {
      "image/png": "[encoded data removed]",
      "text/plain": [
       "<Figure size 216x72 with 3 Axes>"
      ]
     },
     "metadata": {
      "needs_background": "light"
     },
     "output_type": "display_data"
    }
   ],
   "source": [
    "print(\"Condition type:\", examples[2].condition)\n",
    "\n",
    "examples[2].display()"
   ]
  },
  {
   "cell_type": "markdown",
   "metadata": {},
   "source": [
    "These conditions go from easiest to hardest when it comes to reliable communication. In the __Far__ condition, the context is hardly relevant, whereas the nature of the distractors reliably shapes the speaker's choices in the other two conditions. \n",
    "\n",
    "You can begin to see how this affects speaker choices in the above examples: \"purple\" suffices for the __Far__ condition, a more marked single word (\"lime\") is used in the __Split__ condition, and the __Close__ condition triggers a pretty long, complex description."
   ]
  },
  {
   "cell_type": "markdown",
   "metadata": {},
   "source": [
    "The `condition` attribute provides access to this value: "
   ]
  },
  {
   "cell_type": "code",
   "execution_count": 42,
   "metadata": {},
   "outputs": [
    {
     "data": {
      "text/plain": [
       "'close'"
      ]
     },
     "execution_count": 42,
     "metadata": {},
     "output_type": "execute_result"
    }
   ],
   "source": [
    "ex1.condition"
   ]
  },
  {
   "cell_type": "markdown",
   "metadata": {},
   "source": [
    "The following verifies that we have the same number of examples per condition as reported in [Monroe et al. 2017](https://transacl.org/ojs/index.php/tacl/article/view/1142):"
   ]
  },
  {
   "cell_type": "code",
   "execution_count": 43,
   "metadata": {},
   "outputs": [
    {
     "data": {
      "text/plain": [
       "far      15782\n",
       "split    15693\n",
       "close    15519\n",
       "dtype: int64"
      ]
     },
     "execution_count": 43,
     "metadata": {},
     "output_type": "execute_result"
    }
   ],
   "source": [
    "pd.Series([ex.condition for ex in examples]).value_counts()"
   ]
  },
  {
   "cell_type": "markdown",
   "metadata": {},
   "source": [
    "## Toy problems for development work"
   ]
  },
  {
   "cell_type": "markdown",
   "metadata": {},
   "source": [
    "The SCC corpus is fairly large and quite challenging as an NLU task. This means it isn't ideal when it comes to testing hypotheses and debugging code. Poor performance could trace to a mistake, but it could just as easily trace to the fact that the problem is very challenging from the point of view of optimization.\n",
    "\n",
    "To address this, the module `torch_color_describer.py` includes a function `create_example_dataset` for creating small, easy datasets with the same basic properties as the SCC corpus.\n",
    "\n",
    "Here's a toy problem containing just six examples:"
   ]
  },
  {
   "cell_type": "code",
   "execution_count": 53,
   "metadata": {},
   "outputs": [],
   "source": [
    "tiny_contexts, tiny_words, tiny_vocab = create_example_dataset(\n",
    "    group_size=2, vec_dim=2)"
   ]
  },
  {
   "cell_type": "code",
   "execution_count": 54,
   "metadata": {},
   "outputs": [
    {
     "data": {
      "text/plain": [
       "['<s>', '</s>', 'A', 'B', '$UNK']"
      ]
     },
     "execution_count": 54,
     "metadata": {},
     "output_type": "execute_result"
    }
   ],
   "source": [
    "tiny_vocab"
   ]
  },
  {
   "cell_type": "code",
   "execution_count": 55,
   "metadata": {},
   "outputs": [
    {
     "data": {
      "text/plain": [
       "[['<s>', 'A', '</s>'],\n",
       " ['<s>', 'A', '</s>'],\n",
       " ['<s>', 'A', 'B', '</s>'],\n",
       " ['<s>', 'A', 'B', '</s>'],\n",
       " ['<s>', 'B', 'A', 'B', 'A', '</s>'],\n",
       " ['<s>', 'B', 'A', 'B', 'A', '</s>']]"
      ]
     },
     "execution_count": 55,
     "metadata": {},
     "output_type": "execute_result"
    }
   ],
   "source": [
    "tiny_words"
   ]
  },
  {
   "cell_type": "code",
   "execution_count": 56,
   "metadata": {},
   "outputs": [
    {
     "data": {
      "text/plain": [
       "[[array([0.84464215, 0.94729424]),\n",
       "  array([0.5353399 , 0.57843591]),\n",
       "  array([0.00500215, 0.05500586])],\n",
       " [array([0.80595944, 0.84372759]),\n",
       "  array([0.50107106, 0.40530719]),\n",
       "  array([0.01738777, 0.08438436])],\n",
       " [array([0.88390396, 0.88984181]),\n",
       "  array([0.05563814, 0.17386006]),\n",
       "  array([0.54320392, 0.54026499])],\n",
       " [array([0.88452288, 0.85557427]),\n",
       "  array([0.04306275, 0.15269883]),\n",
       "  array([0.55176147, 0.43193186])],\n",
       " [array([0.56949887, 0.52074521]),\n",
       "  array([0.16142565, 0.14594636]),\n",
       "  array([0.81854917, 0.81934328])],\n",
       " [array([0.47570688, 0.51040813]),\n",
       "  array([0.16588093, 0.12370395]),\n",
       "  array([0.90724562, 0.99462315])]]"
      ]
     },
     "execution_count": 56,
     "metadata": {},
     "output_type": "execute_result"
    }
   ],
   "source": [
    "tiny_contexts"
   ]
  },
  {
   "cell_type": "markdown",
   "metadata": {},
   "source": [
    "Each member of `tiny_contexts` contains three vectors. This is meant to be an easy problem, so the final (target) vector always has values that unambiguously determine which utterance is produced. Thus, the model basically just needs to learn to ignore the distractors and find the association between the target vector and the corresponding sequence. \n",
    "\n",
    "All the models we study have a capacity to solve this task with very little data, so you should see perfect or near perfect performance on reasonably-sized versions of this task."
   ]
  },
  {
   "cell_type": "markdown",
   "metadata": {},
   "source": [
    "## Core model"
   ]
  },
  {
   "cell_type": "markdown",
   "metadata": {},
   "source": [
    "Our core model for this problem is implemented in `torch_color_describer.py` as `ContextualColorDescriber`. At its heart, this is a pretty standard encoder–decoder model:\n",
    "\n",
    "* `Encoder`: Processes the color contexts as a sequence. We always place the target in final position so that it is closest to the supervision signals that we get when decoding.\n",
    "\n",
    "* `Decoder`: A neural language model whose initial hidden representation is the final hidden representation of the `Encoder`.\n",
    "\n",
    "* `EncoderDecoder`: Coordinates the operations of the `Encoder` and `Decoder`.\n",
    "\n",
    "Finally, `ContextualColorDescriber` is a wrapper around these model components. It handles the details of training and implements the prediction and evaluation functions that we will use.\n",
    "\n",
    "Many additional details about this model are included in the slides for this unit."
   ]
  },
  {
   "cell_type": "markdown",
   "metadata": {},
   "source": [
    "### Toy dataset illustration"
   ]
  },
  {
   "cell_type": "markdown",
   "metadata": {},
   "source": [
    "To highlight the core functionality of `ContextualColorDescriber`, let's create a small toy dataset and use it to train and evaluate a model:"
   ]
  },
  {
   "cell_type": "code",
   "execution_count": 57,
   "metadata": {},
   "outputs": [],
   "source": [
    "toy_color_seqs, toy_word_seqs, toy_vocab = create_example_dataset(\n",
    "    group_size=50, vec_dim=2)"
   ]
  },
  {
   "cell_type": "code",
   "execution_count": 58,
   "metadata": {},
   "outputs": [],
   "source": [
    "toy_color_seqs_train, toy_color_seqs_test, toy_word_seqs_train, toy_word_seqs_test = \\\n",
    "    train_test_split(toy_color_seqs, toy_word_seqs)"
   ]
  },
  {
   "cell_type": "markdown",
   "metadata": {},
   "source": [
    "`ContextualColorDescriber` is a subclass of `TorchModelBase`, so all of the optimization parameters from that model are available here; see [torch_model_base.py](torch_model_base.py) for full details.\n",
    "\n",
    "Here is a simple use of `ContextualColorDescriber`:"
   ]
  },
  {
   "cell_type": "code",
   "execution_count": 60,
   "metadata": {},
   "outputs": [],
   "source": [
    "toy_mod = ContextualColorDescriber(toy_vocab, max_iter=200)"
   ]
  },
  {
   "cell_type": "code",
   "execution_count": 61,
   "metadata": {},
   "outputs": [
    {
     "name": "stderr",
     "output_type": "stream",
     "text": [
      "Finished epoch 200 of 200; error is 0.26593622565269475"
     ]
    }
   ],
   "source": [
    "_ = toy_mod.fit(toy_color_seqs_train, toy_word_seqs_train)"
   ]
  },
  {
   "cell_type": "markdown",
   "metadata": {},
   "source": [
    "### Predicting sequences"
   ]
  },
  {
   "cell_type": "markdown",
   "metadata": {},
   "source": [
    "The `predict` method takes a list of color contexts as input and returns model descriptions:"
   ]
  },
  {
   "cell_type": "code",
   "execution_count": 62,
   "metadata": {},
   "outputs": [],
   "source": [
    "toy_preds = toy_mod.predict(toy_color_seqs_test)"
   ]
  },
  {
   "cell_type": "code",
   "execution_count": 64,
   "metadata": {},
   "outputs": [
    {
     "data": {
      "text/plain": [
       "['<s>', 'A', 'B', '</s>']"
      ]
     },
     "execution_count": 64,
     "metadata": {},
     "output_type": "execute_result"
    }
   ],
   "source": [
    "toy_preds[0]"
   ]
  },
  {
   "cell_type": "markdown",
   "metadata": {},
   "source": [
    "We can then check that we predicted all correct sequences:"
   ]
  },
  {
   "cell_type": "code",
   "execution_count": 65,
   "metadata": {},
   "outputs": [
    {
     "data": {
      "text/plain": [
       "1.0"
      ]
     },
     "execution_count": 65,
     "metadata": {},
     "output_type": "execute_result"
    }
   ],
   "source": [
    "toy_correct = sum(1 for x, p in zip(toy_word_seqs_test, toy_preds) if x == p)\n",
    "\n",
    "toy_correct / len(toy_word_seqs_test)"
   ]
  },
  {
   "cell_type": "markdown",
   "metadata": {},
   "source": [
    "For real problems, this is too stringent a requirement, since there are generally many equally good descriptions. This insight gives rise to metrics like [BLEU](https://en.wikipedia.org/wiki/BLEU), [METEOR](https://en.wikipedia.org/wiki/METEOR), [ROUGE](https://en.wikipedia.org/wiki/ROUGE_(metric)), [CIDEr](https://arxiv.org/pdf/1411.5726.pdf), and others, which seek to relax the requirement of an exact match with the test sequence. These are reasonable options to explore, but we will instead adopt a communcation-based evaluation, as discussed in the next section."
   ]
  },
  {
   "cell_type": "markdown",
   "metadata": {},
   "source": [
    "### Listener-based evaluation"
   ]
  },
  {
   "cell_type": "markdown",
   "metadata": {},
   "source": [
    "`ContextualColorDescriber` implements a method `listener_accuracy` that we will use for our primary evaluations in the assignment and bake-off. The essence of the method is that we can calculate\n",
    "\n",
    "$$\n",
    "c^{*} = \\text{argmax}_{c \\in C} P_S(\\text{utterance} \\mid c)\n",
    "$$\n",
    "\n",
    "\n",
    "where $P_S$ is our describer model and $C$ is the set of all permutations of all three colors in the color context. We take $c^{*}$ to be a correct prediction if it is one where the target is in the privileged final position. (There are two such contexts; we try both in case the order of the distractors influences the predictions, and the model is correct if one of them has the highest probability.)\n",
    "\n",
    "Here's the listener accuracy of our toy model:"
   ]
  },
  {
   "cell_type": "code",
   "execution_count": 82,
   "metadata": {},
   "outputs": [
    {
     "data": {
      "text/plain": [
       "1.0"
      ]
     },
     "execution_count": 82,
     "metadata": {},
     "output_type": "execute_result"
    }
   ],
   "source": [
    "toy_mod.listener_accuracy(toy_color_seqs_test, toy_word_seqs_test)"
   ]
  },
  {
   "cell_type": "markdown",
   "metadata": {},
   "source": [
    "### BLEU scores"
   ]
  },
  {
   "cell_type": "markdown",
   "metadata": {},
   "source": [
    "The listener-based evaluation scheme has the unusual property that, in some sense, it assesses the model's ability to communicate with itself. This creates a danger that it will drift far from English as we know it but still succeed in signaling the target color. Ideally, we would train a separate listener model to help prevent this, but doing so would be cumbersome and could limit creative system development. Thus, as a quick check that our systems are still going to be able to communicate with us, we can calculate a BLEU score:"
   ]
  },
  {
   "cell_type": "code",
   "execution_count": 83,
   "metadata": {},
   "outputs": [
    {
     "data": {
      "text/plain": [
       "1.0"
      ]
     },
     "execution_count": 83,
     "metadata": {},
     "output_type": "execute_result"
    }
   ],
   "source": [
    "bleu_score, predicted_texts = toy_mod.corpus_bleu(toy_color_seqs_test, toy_word_seqs_test)\n",
    "\n",
    "bleu_score"
   ]
  },
  {
   "cell_type": "markdown",
   "metadata": {},
   "source": [
    "For discussion of BLEU scores, see the [evaluation metrics notebook](evaluation_metrics.ipynb)."
   ]
  },
  {
   "cell_type": "markdown",
   "metadata": {},
   "source": [
    "### Other prediction and evaluation methods"
   ]
  },
  {
   "cell_type": "markdown",
   "metadata": {},
   "source": [
    "You can get the perplexities for test examples with `perpelexities`:"
   ]
  },
  {
   "cell_type": "code",
   "execution_count": 84,
   "metadata": {},
   "outputs": [],
   "source": [
    "toy_perp = toy_mod.perplexities(toy_color_seqs_test, toy_word_seqs_test)"
   ]
  },
  {
   "cell_type": "code",
   "execution_count": 85,
   "metadata": {},
   "outputs": [
    {
     "data": {
      "text/plain": [
       "1.0132557330997753"
      ]
     },
     "execution_count": 85,
     "metadata": {},
     "output_type": "execute_result"
    }
   ],
   "source": [
    "toy_perp[0]"
   ]
  },
  {
   "cell_type": "markdown",
   "metadata": {},
   "source": [
    "You can use `predict_proba` to see the full probability distributions assigned to test examples:"
   ]
  },
  {
   "cell_type": "code",
   "execution_count": 86,
   "metadata": {},
   "outputs": [],
   "source": [
    "toy_proba = toy_mod.predict_proba(toy_color_seqs_test, toy_word_seqs_test)"
   ]
  },
  {
   "cell_type": "code",
   "execution_count": 92,
   "metadata": {},
   "outputs": [
    {
     "name": "stdout",
     "output_type": "stream",
     "text": [
      "['<s>', 'A', 'B', '</s>']\n"
     ]
    },
    {
     "data": {
      "text/plain": [
       "(4, 5)"
      ]
     },
     "execution_count": 92,
     "metadata": {},
     "output_type": "execute_result"
    }
   ],
   "source": [
    "# 4 tokens, each assigned a distribution over 5 vocab items:\n",
    "\n",
    "print(toy_word_seqs_test[0])\n",
    "\n",
    "toy_proba[0].shape"
   ]
  },
  {
   "cell_type": "code",
   "execution_count": 93,
   "metadata": {},
   "outputs": [
    {
     "name": "stdout",
     "output_type": "stream",
     "text": [
      "{'<s>': 1.0, '</s>': 0.0, 'A': 0.0, 'B': 0.0, '$UNK': 0.0}\n",
      "{'<s>': 0.00018379939, '</s>': 0.00022975472, 'A': 0.9946944, 'B': 0.004481192, '$UNK': 0.00041090997}\n",
      "{'<s>': 0.0010102483, '</s>': 0.023374224, 'A': 0.0016727166, 'B': 0.9730926, '$UNK': 0.0008501803}\n",
      "{'<s>': 0.0046478347, '</s>': 0.9801214, 'A': 0.011150995, 'B': 0.0027308024, '$UNK': 0.0013490183}\n"
     ]
    }
   ],
   "source": [
    "for timestep in toy_proba[0]:\n",
    "    print(dict(zip(toy_vocab, timestep)))"
   ]
  },
  {
   "cell_type": "markdown",
   "metadata": {},
   "source": [
    "### Cross-validation"
   ]
  },
  {
   "cell_type": "markdown",
   "metadata": {},
   "source": [
    "You can use `utils.fit_classifier_with_hyperparameter_search` to cross-validate these models. Just be sure to set `scoring=None` so that the sklearn model selection methods use the `score` method of `ContextualColorDescriber`, which is an alias for `listener_accuracy`:"
   ]
  },
  {
   "cell_type": "code",
   "execution_count": 95,
   "metadata": {},
   "outputs": [
    {
     "name": "stderr",
     "output_type": "stream",
     "text": [
      "C:\\Users\\Santiago de Buen\\.conda\\envs\\nlu\\lib\\site-packages\\numpy\\core\\_asarray.py:83: VisibleDeprecationWarning: Creating an ndarray from ragged nested sequences (which is a list-or-tuple of lists-or-tuples-or ndarrays with different lengths or shapes) is deprecated. If you meant to do this, you must specify 'dtype=object' when creating the ndarray\n",
      "  return array(a, dtype, copy=False, order=order)\n",
      "Finished epoch 200 of 200; error is 0.45002669095993045"
     ]
    },
    {
     "name": "stdout",
     "output_type": "stream",
     "text": [
      "Best params: {'hidden_dim': 20}\n",
      "Best score: 1.000\n"
     ]
    }
   ],
   "source": [
    "best_mod = utils.fit_classifier_with_hyperparameter_search(\n",
    "    toy_color_seqs_train,\n",
    "    toy_word_seqs_train,\n",
    "    toy_mod,\n",
    "    cv=2,\n",
    "    scoring=None,\n",
    "    param_grid={'hidden_dim': [10, 20]})"
   ]
  },
  {
   "cell_type": "markdown",
   "metadata": {},
   "source": [
    "## Baseline SCC model"
   ]
  },
  {
   "cell_type": "markdown",
   "metadata": {},
   "source": [
    "Just to show how all the pieces come together, here's a very basic SCC experiment using the core code and very simplistic assumptions (which you will revisit in the assignment) about how to represent the examples:"
   ]
  },
  {
   "cell_type": "markdown",
   "metadata": {},
   "source": [
    "To facilitate quick development, we'll restrict attention to the two-word examples:"
   ]
  },
  {
   "cell_type": "code",
   "execution_count": 96,
   "metadata": {},
   "outputs": [],
   "source": [
    "dev_corpus = ColorsCorpusReader(COLORS_SRC_FILENAME, word_count=2)"
   ]
  },
  {
   "cell_type": "code",
   "execution_count": 99,
   "metadata": {},
   "outputs": [],
   "source": [
    "dev_examples = list(dev_corpus.read())"
   ]
  },
  {
   "cell_type": "code",
   "execution_count": 100,
   "metadata": {},
   "outputs": [
    {
     "data": {
      "text/plain": [
       "13890"
      ]
     },
     "execution_count": 100,
     "metadata": {},
     "output_type": "execute_result"
    }
   ],
   "source": [
    "len(dev_examples)"
   ]
  },
  {
   "cell_type": "markdown",
   "metadata": {},
   "source": [
    "Here we extract the raw colors and texts (as strings):"
   ]
  },
  {
   "cell_type": "code",
   "execution_count": 109,
   "metadata": {},
   "outputs": [],
   "source": [
    "dev_cols, dev_texts = zip(*[[ex.colors, ex.contents] for ex in dev_examples])"
   ]
  },
  {
   "cell_type": "markdown",
   "metadata": {},
   "source": [
    "To tokenize the examples, we'll just split on whitespace, taking care to add the required boundary symbols:"
   ]
  },
  {
   "cell_type": "code",
   "execution_count": 116,
   "metadata": {},
   "outputs": [],
   "source": [
    "dev_word_seqs = [[START_SYMBOL] + text.split() + [END_SYMBOL] for text in dev_texts]"
   ]
  },
  {
   "cell_type": "code",
   "execution_count": 118,
   "metadata": {},
   "outputs": [
    {
     "data": {
      "text/plain": [
       "[['<s>', 'Medium', 'pink', '</s>'],\n",
       " ['<s>', 'Mint', 'green.', '</s>'],\n",
       " ['<s>', 'Mud', 'brown', '</s>'],\n",
       " ['<s>', 'Mud', 'brown', '</s>'],\n",
       " ['<s>', 'Camo', 'green', '</s>'],\n",
       " ['<s>', 'Darkish', 'red', '</s>'],\n",
       " ['<s>', 'Plain', 'blue', '</s>'],\n",
       " ['<s>', 'Thank', 'you.', '</s>'],\n",
       " ['<s>', 'Camo', 'green', '</s>'],\n",
       " ['<s>', 'Neon', 'pink', '</s>'],\n",
       " ['<s>', 'forest', 'green', '</s>'],\n",
       " ['<s>', 'greyest', 'one', '</s>'],\n",
       " ['<s>', 'darker', 'red', '</s>'],\n",
       " ['<s>', 'dark', 'green', '</s>'],\n",
       " ['<s>', 'light', 'brown', '</s>'],\n",
       " ['<s>', 'dark', 'green', '</s>'],\n",
       " ['<s>', 'dark', 'blue', '</s>'],\n",
       " ['<s>', 'brightest', 'green', '</s>'],\n",
       " ['<s>', 'brightest', 'green', '</s>'],\n",
       " ['<s>', 'darkest', 'green', '</s>'],\n",
       " ['<s>', 'brightest', 'pink', '</s>'],\n",
       " ['<s>', 'dull', 'purple', '</s>'],\n",
       " ['<s>', 'darkest', 'green', '</s>'],\n",
       " ['<s>', 'normal', 'grey', '</s>'],\n",
       " ['<s>', 'lime', 'green', '</s>'],\n",
       " ['<s>', 'lime', 'green', '</s>'],\n",
       " ['<s>', 'brigher', 'blue', '</s>'],\n",
       " ['<s>', 'light', 'green', '</s>'],\n",
       " ['<s>', 'bright', 'purple', '</s>'],\n",
       " ['<s>', 'blue', 'gray', '</s>'],\n",
       " ['<s>', 'bright', 'pink', '</s>'],\n",
       " ['<s>', 'bright', 'blue', '</s>'],\n",
       " ['<s>', 'sky', 'blue', '</s>'],\n",
       " ['<s>', 'darker', 'purple', '</s>'],\n",
       " ['<s>', 'bright', 'blue', '</s>'],\n",
       " ['<s>', 'dark', 'blue', '</s>'],\n",
       " ['<s>', 'dark', 'gray', '</s>'],\n",
       " ['<s>', 'brightest', 'teal', '</s>'],\n",
       " ['<s>', 'brightest', 'purple', '</s>'],\n",
       " ['<s>', 'middle', 'brightness', '</s>'],\n",
       " ['<s>', 'dark', 'green', '</s>'],\n",
       " ['<s>', 'darkest', 'color', '</s>'],\n",
       " ['<s>', 'darker', 'orange', '</s>'],\n",
       " ['<s>', 'dark', 'green', '</s>'],\n",
       " ['<s>', 'middle', 'green', '</s>'],\n",
       " ['<s>', 'darkest', 'color', '</s>'],\n",
       " ['<s>', 'bright', 'purple', '</s>'],\n",
       " ['<s>', 'bluest', 'purple', '</s>'],\n",
       " ['<s>', 'bluest', 'green', '</s>'],\n",
       " ['<s>', 'bright', 'green', '</s>'],\n",
       " ['<s>', 'darker', 'olive', '</s>'],\n",
       " ['<s>', 'bright', 'teal', '</s>'],\n",
       " ['<s>', 'darkest', 'green', '</s>'],\n",
       " ['<s>', 'light', 'blue', '</s>'],\n",
       " ['<s>', 'neon', 'green', '</s>'],\n",
       " ['<s>', 'dark', 'puprle', '</s>'],\n",
       " ['<s>', 'middle', 'green', '</s>'],\n",
       " ['<s>', 'dark', 'grey', '</s>'],\n",
       " ['<s>', 'dark', 'purple', '</s>'],\n",
       " ['<s>', 'lime', 'green', '</s>'],\n",
       " ['<s>', 'darker', 'blue', '</s>'],\n",
       " ['<s>', 'darker', 'green', '</s>'],\n",
       " ['<s>', 'tan', 'orange', '</s>'],\n",
       " ['<s>', 'ugly', 'tan', '</s>'],\n",
       " ['<s>', 'other', 'one', '</s>'],\n",
       " ['<s>', 'lesser', 'purple', '</s>'],\n",
       " ['<s>', 'dark', 'purple', '</s>'],\n",
       " ['<s>', 'darker', 'purple', '</s>'],\n",
       " ['<s>', 'bluish', 'grey', '</s>'],\n",
       " ['<s>', 'dark', 'purple', '</s>'],\n",
       " ['<s>', 'medium', 'green', '</s>'],\n",
       " ['<s>', 'blue', 'grey', '</s>'],\n",
       " ['<s>', 'purple', 'grey', '</s>'],\n",
       " ['<s>', 'darkest', 'green', '</s>'],\n",
       " ['<s>', 'meduim', 'green', '</s>'],\n",
       " ['<s>', 'brownish', 'yellow', '</s>'],\n",
       " ['<s>', 'bright', 'blue', '</s>'],\n",
       " ['<s>', 'pink', 'puirple', '</s>'],\n",
       " ['<s>', 'darkest', 'blue', '</s>'],\n",
       " ['<s>', 'darkest', 'blue', '</s>'],\n",
       " ['<s>', 'you', 'rock', '</s>'],\n",
       " ['<s>', 'Gray', 'Box', '</s>'],\n",
       " ['<s>', 'Gray', 'Box', '</s>'],\n",
       " ['<s>', 'Gray', 'Box', '</s>'],\n",
       " ['<s>', 'Navy', 'Blue', '</s>'],\n",
       " ['<s>', 'Brightest', 'Color', '</s>'],\n",
       " ['<s>', 'Lighter', 'Blue', '</s>'],\n",
       " ['<s>', 'Most', 'Gray', '</s>'],\n",
       " ['<s>', 'Darker', 'Green', '</s>'],\n",
       " ['<s>', 'Brighter', 'Green', '</s>'],\n",
       " ['<s>', 'Darker', 'Blue', '</s>'],\n",
       " ['<s>', 'Second', 'Brightest.', '</s>'],\n",
       " ['<s>', 'Darker', 'Purple', '</s>'],\n",
       " ['<s>', 'Darker', 'Brown', '</s>'],\n",
       " ['<s>', 'Darker', 'Purple', '</s>'],\n",
       " ['<s>', \"Green'ish\", 'Gray', '</s>'],\n",
       " ['<s>', 'Brightest', 'Purple', '</s>'],\n",
       " ['<s>', 'No', 'kidding', '</s>'],\n",
       " ['<s>', 'Grayish', 'Purple', '</s>'],\n",
       " ['<s>', 'lighter', 'green', '</s>'],\n",
       " ['<s>', 'Greenish', 'gray', '</s>'],\n",
       " ['<s>', 'Regular', 'Blue', '</s>'],\n",
       " ['<s>', 'Purple', 'Gray', '</s>'],\n",
       " ['<s>', 'Regular', 'Blue', '###', 'No', 'worries', '</s>'],\n",
       " ['<s>', 'normal', 'blue', '</s>'],\n",
       " ['<s>', 'grayish', 'purple', '</s>'],\n",
       " ['<s>', 'bluish', 'green', '</s>'],\n",
       " ['<s>', 'forest', 'green', '</s>'],\n",
       " ['<s>', 'lighter', 'purple', '</s>'],\n",
       " ['<s>', 'darker', 'green', '</s>'],\n",
       " ['<s>', 'brighter', 'red', '</s>'],\n",
       " ['<s>', 'brighter', 'green', '</s>'],\n",
       " ['<s>', 'darker', 'green', '</s>'],\n",
       " ['<s>', 'darker', 'blue', '</s>'],\n",
       " ['<s>', 'pastel', 'green', '</s>'],\n",
       " ['<s>', 'greenish', 'gray', '</s>'],\n",
       " ['<s>', 'darker', 'green', '</s>'],\n",
       " ['<s>', 'grayish', 'green', '</s>'],\n",
       " ['<s>', 'forest', 'green', '</s>'],\n",
       " ['<s>', 'reddish', 'gray', '</s>'],\n",
       " ['<s>', 'dark', 'green', '</s>'],\n",
       " ['<s>', 'light', 'blue', '</s>'],\n",
       " ['<s>', 'olive', 'green', '</s>'],\n",
       " ['<s>', 'olive', 'green', '</s>'],\n",
       " ['<s>', 'dark', 'orange', '</s>'],\n",
       " ['<s>', 'light', 'blue', '</s>'],\n",
       " ['<s>', 'light', 'green', '</s>'],\n",
       " ['<s>', 'olive', 'green', '</s>'],\n",
       " ['<s>', 'bright', 'pink', '</s>'],\n",
       " ['<s>', 'dark', 'blue', '</s>'],\n",
       " ['<s>', 'light', 'blue', '</s>'],\n",
       " ['<s>', 'dark', 'green', '</s>'],\n",
       " ['<s>', 'olive', 'green', '</s>'],\n",
       " ['<s>', 'bright', 'purple', '</s>'],\n",
       " ['<s>', 'dark', 'green', '</s>'],\n",
       " ['<s>', 'bright', 'purple', '</s>'],\n",
       " ['<s>', 'bright', 'purple', '</s>'],\n",
       " ['<s>', 'blue', ':D', '</s>'],\n",
       " ['<s>', 'brownish', 'color', '</s>'],\n",
       " ['<s>', 'neon', 'green', '</s>'],\n",
       " ['<s>', 'neon', 'purple', '</s>'],\n",
       " ['<s>', 'darker', 'blue', '</s>'],\n",
       " ['<s>', 'neon', 'violet', '</s>'],\n",
       " ['<s>', 'pale', 'green', '</s>'],\n",
       " ['<s>', 'neon', 'green', '</s>'],\n",
       " ['<s>', 'pale', 'violet', '</s>'],\n",
       " ['<s>', 'neon', 'pink', '</s>'],\n",
       " ['<s>', 'dark', 'blue', '</s>'],\n",
       " ['<s>', 'pale', 'teal', '</s>'],\n",
       " ['<s>', 'sky', 'blue', '</s>'],\n",
       " ['<s>', 'darker', 'purple', '</s>'],\n",
       " ['<s>', 'dark', 'green', '</s>'],\n",
       " ['<s>', 'dark', 'purple', '</s>'],\n",
       " ['<s>', 'pale', 'purple', '</s>'],\n",
       " ['<s>', 'neon', 'green', '</s>'],\n",
       " ['<s>', 'golden', 'green', '</s>'],\n",
       " ['<s>', 'darker', 'green', '###', 'more', 'grey', '</s>'],\n",
       " ['<s>', 'lighter', 'grey', '</s>'],\n",
       " ['<s>', 'purplish', 'blue', '</s>'],\n",
       " ['<s>', 'pea', 'green', '</s>'],\n",
       " ['<s>', 'brownish', 'violet', '</s>'],\n",
       " ['<s>', 'pale', 'pink', '</s>'],\n",
       " ['<s>', 'lightest', 'block', '</s>'],\n",
       " ['<s>', 'faded', 'blue', '</s>'],\n",
       " ['<s>', 'brightest', 'blue', '</s>'],\n",
       " ['<s>', 'yellow-brown', 'one', '</s>'],\n",
       " ['<s>', 'olive', 'green', '</s>'],\n",
       " ['<s>', 'light', 'brown', '</s>'],\n",
       " ['<s>', 'bright', 'green', '</s>'],\n",
       " ['<s>', 'most', 'gray', '</s>'],\n",
       " ['<s>', 'darkest', 'blue', '</s>'],\n",
       " ['<s>', 'brightest', 'green', '</s>'],\n",
       " ['<s>', 'flat', 'purple', '</s>'],\n",
       " ['<s>', 'bright', 'pink', '</s>'],\n",
       " ['<s>', 'brightest', 'yellow', '</s>'],\n",
       " ['<s>', 'most', 'orange', '</s>'],\n",
       " ['<s>', 'basic', 'gray', '</s>'],\n",
       " ['<s>', 'greenish', 'one', '</s>'],\n",
       " ['<s>', 'darker', 'gray', '</s>'],\n",
       " ['<s>', 'yellowish', 'brown', '</s>'],\n",
       " ['<s>', 'light', 'teal', '</s>'],\n",
       " ['<s>', 'blue', 'one', '</s>'],\n",
       " ['<s>', 'most', 'blue', '</s>'],\n",
       " ['<s>', 'Magenta', 'again', '</s>'],\n",
       " ['<s>', 'Dark', 'blue', '</s>'],\n",
       " ['<s>', 'Grayest', 'one', '</s>'],\n",
       " ['<s>', 'Olive', 'Green', '</s>'],\n",
       " ['<s>', 'Lime', 'Green', '</s>'],\n",
       " ['<s>', 'Blue', 'Gray', '</s>'],\n",
       " ['<s>', 'Dull', 'Purple', '</s>'],\n",
       " ['<s>', 'Grayest', 'one', '</s>'],\n",
       " ['<s>', 'Bright', 'Green', '</s>'],\n",
       " ['<s>', 'Grass', 'Green', '</s>'],\n",
       " ['<s>', 'grass', 'green', '</s>'],\n",
       " ['<s>', 'bright', 'blue', '</s>'],\n",
       " ['<s>', 'gunmetal', 'gray', '</s>'],\n",
       " ['<s>', 'bright', 'purple', '</s>'],\n",
       " ['<s>', 'dull', 'green', '</s>'],\n",
       " ['<s>', 'sky', 'blue', '</s>'],\n",
       " ['<s>', 'jungle', 'green', '###', 'dullest', 'one', '</s>'],\n",
       " ['<s>', 'lime', 'green', '</s>'],\n",
       " ['<s>', 'bright', 'blue', '</s>'],\n",
       " ['<s>', 'brightest', 'blue', '</s>'],\n",
       " ['<s>', 'same', 'here', '###', 'Can', 'you?', '</s>'],\n",
       " ['<s>', 'So', 'color', '</s>'],\n",
       " ['<s>', 'Very', 'bright', '</s>'],\n",
       " ['<s>', 'no', 'worries', '</s>'],\n",
       " ['<s>', 'not', 'bright', '</s>'],\n",
       " ['<s>', 'not', 'bright', '</s>'],\n",
       " ['<s>', 'lighter', 'blue', '</s>'],\n",
       " ['<s>', 'hot', 'pink', '</s>'],\n",
       " ['<s>', 'most', 'purple', '</s>'],\n",
       " ['<s>', 'dull', 'purple', '</s>'],\n",
       " ['<s>', 'brighter', 'blue', '###', 'baby', 'bluish', '</s>'],\n",
       " ['<s>', \"it's\", 'ok', '</s>'],\n",
       " ['<s>', 'more', 'brownish', '</s>'],\n",
       " ['<s>', 'most', 'orange', '</s>'],\n",
       " ['<s>', 'light', 'purple', '</s>'],\n",
       " ['<s>', 'dull', 'purple', '</s>'],\n",
       " ['<s>', 'dull', 'blue', '</s>'],\n",
       " ['<s>', 'bright', 'purple', '###', \"it's\", 'ok', '</s>'],\n",
       " ['<s>', 'bright', 'green', '</s>'],\n",
       " ['<s>', 'bright', 'green', '</s>'],\n",
       " ['<s>', 'dark', 'gray', '</s>'],\n",
       " ['<s>', 'pea', 'green', '</s>'],\n",
       " ['<s>', 'deep', 'purple', '</s>'],\n",
       " ['<s>', 'light', 'salmon', '</s>'],\n",
       " ['<s>', 'ash', 'gray', '</s>'],\n",
       " ['<s>', 'lime', 'green', '</s>'],\n",
       " ['<s>', 'faded', 'pink', '</s>'],\n",
       " ['<s>', 'sky', 'blue', '</s>'],\n",
       " ['<s>', 'pea', 'green', '</s>'],\n",
       " ['<s>', 'purple', 'slate', '</s>'],\n",
       " ['<s>', 'light', 'blue', '</s>'],\n",
       " ['<s>', 'turquise', 'green', '</s>'],\n",
       " ['<s>', 'dark', 'blue', '</s>'],\n",
       " ['<s>', 'light', 'blue', '</s>'],\n",
       " ['<s>', 'bright', 'purple', '</s>'],\n",
       " ['<s>', 'bright', 'pink', '</s>'],\n",
       " ['<s>', 'green', 'one', '</s>'],\n",
       " ['<s>', 'dark', 'blue', '</s>'],\n",
       " ['<s>', 'light', 'brown', '</s>'],\n",
       " ['<s>', 'weird', 'one', '</s>'],\n",
       " ['<s>', 'dark', 'green', '</s>'],\n",
       " ['<s>', 'faded', 'pink', '</s>'],\n",
       " ['<s>', 'bright', 'green', '</s>'],\n",
       " ['<s>', 'bright', 'green', '</s>'],\n",
       " ['<s>', 'bright', 'yellow-green', '</s>'],\n",
       " ['<s>', 'red,', 'bright', '</s>'],\n",
       " ['<s>', 'bright', 'green', '</s>'],\n",
       " ['<s>', 'bright', 'pink', '</s>'],\n",
       " ['<s>', 'sea', 'foam', '</s>'],\n",
       " ['<s>', 'Dark', 'purple/amethyst', '</s>'],\n",
       " ['<s>', 'Bright', 'orange', '</s>'],\n",
       " ['<s>', 'Darker', 'blue', '</s>'],\n",
       " ['<s>', 'Bright', 'pink', '</s>'],\n",
       " ['<s>', 'light', 'orange', '</s>'],\n",
       " ['<s>', 'weird', 'purple', '</s>'],\n",
       " ['<s>', 'sky', 'blue', '</s>'],\n",
       " ['<s>', 'bright', 'pinkish', '</s>'],\n",
       " ['<s>', 'duller', 'green', '</s>'],\n",
       " ['<s>', 'brightest', 'pink', '</s>'],\n",
       " ['<s>', 'dullest', 'green', '</s>'],\n",
       " ['<s>', 'most', 'grey', '</s>'],\n",
       " ['<s>', 'brightest', 'pink', '</s>'],\n",
       " ['<s>', 'darkest', 'blue', '</s>'],\n",
       " ['<s>', 'brightest', 'pink', '</s>'],\n",
       " ['<s>', 'army', 'green', '</s>'],\n",
       " ['<s>', 'lightest', 'shade', '</s>'],\n",
       " ['<s>', 'green', 'bright', '</s>'],\n",
       " ['<s>', 'bright', 'blue', '</s>'],\n",
       " ['<s>', 'grey', 'darker', '</s>'],\n",
       " ['<s>', 'grass', 'green', '</s>'],\n",
       " ['<s>', 'turquoise', 'blue', '</s>'],\n",
       " ['<s>', 'bluish', 'purple', '</s>'],\n",
       " ['<s>', 'bright', 'blue', '</s>'],\n",
       " ['<s>', 'most', 'green', '</s>'],\n",
       " ['<s>', 'really', 'green', '</s>'],\n",
       " ['<s>', 'most', 'green', '</s>'],\n",
       " ['<s>', 'army', 'green', '</s>'],\n",
       " ['<s>', 'bright', 'green', '</s>'],\n",
       " ['<s>', 'darker', 'pink', '</s>'],\n",
       " ['<s>', 'brighter', 'pink', '</s>'],\n",
       " ['<s>', 'purply', 'blue', '</s>'],\n",
       " ['<s>', 'dusty', 'pink', '</s>'],\n",
       " ['<s>', 'muted', 'mustard', '</s>'],\n",
       " ['<s>', 'turquoisey', 'green', '</s>'],\n",
       " ['<s>', 'grey', 'blue', '</s>'],\n",
       " ['<s>', 'dusty', 'mauve', '</s>'],\n",
       " ['<s>', 'pea', 'green', '</s>'],\n",
       " ['<s>', 'pea', 'green', '</s>'],\n",
       " ['<s>', 'kinda', 'yea', '</s>'],\n",
       " ['<s>', 'rainy', 'day', '</s>'],\n",
       " ['<s>', 'caribbean', 'water', '</s>'],\n",
       " ['<s>', 'pale', 'plum', '</s>'],\n",
       " ['<s>', 'pale', 'plum', '</s>'],\n",
       " ['<s>', 'boring', 'drab', '</s>'],\n",
       " ['<s>', 'light', 'lime', '</s>'],\n",
       " ['<s>', 'darker', 'purple', '</s>'],\n",
       " ['<s>', 'pale', 'yellow', '</s>'],\n",
       " ['<s>', \"robin's\", 'egg', '</s>'],\n",
       " ['<s>', 'brighter', 'pink', '</s>'],\n",
       " ['<s>', 'darker', 'blue', '</s>'],\n",
       " ['<s>', 'light', 'blue', '</s>'],\n",
       " ['<s>', 'dull', 'green', '</s>'],\n",
       " ['<s>', 'dark', 'blue', '</s>'],\n",
       " ['<s>', 'medium', 'blue', '</s>'],\n",
       " ['<s>', 'dull', 'green', '</s>'],\n",
       " ['<s>', 'dull', 'gray', '</s>'],\n",
       " ['<s>', 'light', 'green', '</s>'],\n",
       " ['<s>', 'bright', 'green', '</s>'],\n",
       " ['<s>', 'dark', 'green', '</s>'],\n",
       " ['<s>', 'dark', 'purple', '</s>'],\n",
       " ['<s>', 'light', 'blue', '</s>'],\n",
       " ['<s>', 'bright', 'green', '</s>'],\n",
       " ['<s>', 'bright', 'blue', '</s>'],\n",
       " ['<s>', 'dark', 'blue', '</s>'],\n",
       " ['<s>', 'light', 'color', '</s>'],\n",
       " ['<s>', 'lighter', 'blue', '</s>'],\n",
       " ['<s>', 'bright', 'color', '</s>'],\n",
       " ['<s>', 'grass', 'color', '</s>'],\n",
       " ['<s>', 'girl', 'color', '</s>'],\n",
       " ['<s>', 'girl', 'color', '</s>'],\n",
       " ['<s>', 'muted', 'color', '</s>'],\n",
       " ['<s>', 'brighter', 'pink', '</s>'],\n",
       " ['<s>', 'blue', 'color', '</s>'],\n",
       " ['<s>', 'brightest', 'color', '</s>'],\n",
       " ['<s>', 'matte', 'pink', '</s>'],\n",
       " ['<s>', 'dullest', 'color', '</s>'],\n",
       " ['<s>', 'light', 'green', '</s>'],\n",
       " ['<s>', 'bright', 'teal', '</s>'],\n",
       " ['<s>', 'redish', 'color', '</s>'],\n",
       " ['<s>', 'brightest', 'color', '</s>'],\n",
       " ['<s>', 'matte', 'green', '</s>'],\n",
       " ['<s>', 'blue', 'purple', '</s>'],\n",
       " ['<s>', 'dullest', 'color', '</s>'],\n",
       " ['<s>', 'bright', 'pink', '</s>'],\n",
       " ['<s>', 'brightest', 'color', '</s>'],\n",
       " ['<s>', 'dullest', 'color', '</s>'],\n",
       " ['<s>', 'brightest', 'color', '</s>'],\n",
       " ['<s>', 'dull', 'pink', '</s>'],\n",
       " ['<s>', 'dull', 'yellow', '</s>'],\n",
       " ['<s>', 'dull', 'pink', '</s>'],\n",
       " ['<s>', 'dull', 'red', '</s>'],\n",
       " ['<s>', 'pick', 'blue', '</s>'],\n",
       " ['<s>', 'pick', 'green', '</s>'],\n",
       " ['<s>', 'bright', 'purple', '</s>'],\n",
       " ['<s>', 'light', 'purple', '</s>'],\n",
       " ['<s>', 'bluish', 'purple', '</s>'],\n",
       " ['<s>', 'yellowish', 'green', '</s>'],\n",
       " ['<s>', 'bright', 'green', '</s>'],\n",
       " ['<s>', 'bright', 'green', '</s>'],\n",
       " ['<s>', 'dim', 'purple', '</s>'],\n",
       " ['<s>', 'brownish', 'gold', '</s>'],\n",
       " ['<s>', 'dim', 'blue', '</s>'],\n",
       " ['<s>', 'reddish', 'brown', '</s>'],\n",
       " ['<s>', 'bright', 'green', '</s>'],\n",
       " ['<s>', 'brightest', 'green', '</s>'],\n",
       " ['<s>', 'darkest', 'purple', '</s>'],\n",
       " ['<s>', 'brightest', 'fusia', '</s>'],\n",
       " ['<s>', 'darker', 'orange', '</s>'],\n",
       " ['<s>', 'blackest', 'grey', '</s>'],\n",
       " ['<s>', 'bright', 'bright', '</s>'],\n",
       " ['<s>', 'dull', 'green', '</s>'],\n",
       " ['<s>', 'grey', 'blue', '</s>'],\n",
       " ['<s>', 'army', 'green', '</s>'],\n",
       " ['<s>', 'bluer', 'purple', '</s>'],\n",
       " ['<s>', 'army', 'green', '</s>'],\n",
       " ['<s>', 'grey', 'blue', '</s>'],\n",
       " ['<s>', 'skyer', 'blue', '</s>'],\n",
       " ['<s>', 'bright', 'blue', '</s>'],\n",
       " ['<s>', 'purple', 'red', '</s>'],\n",
       " ['<s>', 'grey', 'silver', '</s>'],\n",
       " ['<s>', 'grey', 'silver', '</s>'],\n",
       " ['<s>', 'army', 'green', '</s>'],\n",
       " ['<s>', 'Lighter', 'blue', '</s>'],\n",
       " ['<s>', 'neon', 'green', '</s>'],\n",
       " ['<s>', 'dark', 'yellow', '</s>'],\n",
       " ['<s>', 'neon', 'green', '</s>'],\n",
       " ['<s>', 'light', 'purple', '</s>'],\n",
       " ['<s>', 'Any', 'thoughts?', '</s>'],\n",
       " ['<s>', 'neon', 'magenta', '</s>'],\n",
       " ['<s>', 'grey', '(purple-grey', '</s>'],\n",
       " ['<s>', 'dark', 'purple.', '</s>'],\n",
       " ['<s>', 'sky', 'blue', '###', 'more', 'greenish', '</s>'],\n",
       " ['<s>', 'dull', 'orange', '</s>'],\n",
       " ['<s>', 'dark', 'blue', '</s>'],\n",
       " ['<s>', 'light', 'blue', '</s>'],\n",
       " ['<s>', 'dark', 'green', '</s>'],\n",
       " ['<s>', 'grayish', 'blue', '</s>'],\n",
       " ['<s>', 'lightest', 'blue', '</s>'],\n",
       " ['<s>', 'bright', 'yellow', '</s>'],\n",
       " ['<s>', 'medium', 'blue', '</s>'],\n",
       " ['<s>', 'pinkish', 'purple', '</s>'],\n",
       " ['<s>', 'bright', 'orange', '</s>'],\n",
       " ['<s>', 'medium', 'pink', '</s>'],\n",
       " ['<s>', 'dull', 'yellow', '</s>'],\n",
       " ['<s>', 'bright', 'blue', '</s>'],\n",
       " ['<s>', 'lightest', 'color', '</s>'],\n",
       " ['<s>', 'bright', 'violet', '</s>'],\n",
       " ['<s>', 'bright', 'pink', '</s>'],\n",
       " ['<s>', 'medium', 'purple', '</s>'],\n",
       " ['<s>', 'bright', 'pink', '</s>'],\n",
       " ['<s>', 'bright', 'green', '</s>'],\n",
       " ['<s>', 'light', 'blue', '</s>'],\n",
       " ['<s>', 'light', 'pink', '</s>'],\n",
       " ['<s>', 'medium', 'gray', '</s>'],\n",
       " ['<s>', 'dullest', 'color', '</s>'],\n",
       " ['<s>', 'bright', 'pink', '</s>'],\n",
       " ['<s>', 'bright', 'purple', '</s>'],\n",
       " ['<s>', 'dull', 'orange', '</s>'],\n",
       " ['<s>', 'medium', 'blue', '</s>'],\n",
       " ['<s>', 'miss', 'piggy', '</s>'],\n",
       " ['<s>', 'thanks,', 'trying', '</s>'],\n",
       " ['<s>', 'pastel', 'grass', '</s>'],\n",
       " ['<s>', 'not', 'fruit', '</s>'],\n",
       " ['<s>', 'pea', 'soup', '</s>'],\n",
       " ['<s>', 'darker', 'sandy', '</s>'],\n",
       " ['<s>', 'sky', 'again', '</s>'],\n",
       " ['<s>', 'miss', 'piggy', '</s>'],\n",
       " ['<s>', 'ocean', 'darker', '</s>'],\n",
       " ['<s>', 'muted', 'sun', '</s>'],\n",
       " ['<s>', 'dreary', 'day', '</s>'],\n",
       " ['<s>', 'dreary', 'day', '</s>'],\n",
       " ['<s>', 'brighter', 'sky', '</s>'],\n",
       " ['<s>', 'miss', 'piggy', '</s>'],\n",
       " ['<s>', 'pale', 'grapes', '</s>'],\n",
       " ['<s>',\n",
       "  'middle',\n",
       "  'tone',\n",
       "  '###',\n",
       "  'not',\n",
       "  'bright',\n",
       "  '###',\n",
       "  'not',\n",
       "  'mud',\n",
       "  '</s>'],\n",
       " ['<s>', 'brightest', 'sky', '</s>'],\n",
       " ['<s>', 'pinkish', 'gray', '</s>'],\n",
       " ['<s>', 'blue', 'bright', '</s>'],\n",
       " ['<s>', 'bright', 'blue', '</s>'],\n",
       " ['<s>', 'bright', 'green', '</s>'],\n",
       " ['<s>', 'medium', 'pink', '</s>'],\n",
       " ['<s>', 'greenish', 'gray', '</s>'],\n",
       " ['<s>', 'pinkish', 'purple', '</s>'],\n",
       " ['<s>', 'gray', 'brown', '</s>'],\n",
       " ['<s>', 'dull', 'yellow', '</s>'],\n",
       " ['<s>', 'bright', 'pink', '</s>'],\n",
       " ['<s>', 'green', 'blue', '</s>'],\n",
       " ['<s>', 'dull', 'purple', '</s>'],\n",
       " ['<s>', 'bluish', 'purple', '</s>'],\n",
       " ['<s>', 'bluish', 'purple', '</s>'],\n",
       " ['<s>', 'Darkest', 'pink', '</s>'],\n",
       " ['<s>', 'Darkest', 'purple', '</s>'],\n",
       " ['<s>', 'Lighest', 'gray', '</s>'],\n",
       " ['<s>', 'Darkest', 'purple', '</s>'],\n",
       " ['<s>', 'one', 'sec', '</s>'],\n",
       " ['<s>', 'dull', 'pink', '</s>'],\n",
       " ['<s>', 'redish', 'brown', '</s>'],\n",
       " ['<s>', 'duller', 'pink', '</s>'],\n",
       " ['<s>', 'dark', 'blue', '</s>'],\n",
       " ['<s>', 'darker', 'purple', '</s>'],\n",
       " ['<s>', 'bright', 'green', '</s>'],\n",
       " ['<s>', 'dark', 'purple', '</s>'],\n",
       " ['<s>', 'brightest', 'green', '</s>'],\n",
       " ['<s>', 'dull', 'purple', '</s>'],\n",
       " ['<s>', 'bright', 'green', '</s>'],\n",
       " ['<s>', 'yellowish', 'green', '</s>'],\n",
       " ['<s>', 'duller', 'purple', '</s>'],\n",
       " ['<s>', 'bright', 'green', '</s>'],\n",
       " ['<s>', 'brightest', 'pink', '</s>'],\n",
       " ['<s>', 'bright', 'green', '</s>'],\n",
       " ['<s>', 'olive', 'green', '</s>'],\n",
       " ['<s>', 'light', 'purple', '</s>'],\n",
       " ['<s>', 'darkest', 'blue', '</s>'],\n",
       " ['<s>', 'darkest', 'again', '</s>'],\n",
       " ['<s>', 'dark', 'green', '</s>'],\n",
       " ['<s>', 'neon', 'green/yellow', '</s>'],\n",
       " ['<s>', 'the', 'brownest', '</s>'],\n",
       " ['<s>', 'green/yellow,', 'lightest', '</s>'],\n",
       " ['<s>', 'most', 'gray', '</s>'],\n",
       " ['<s>', 'darker', 'green', '</s>'],\n",
       " ['<s>', 'brownish', 'one', '</s>'],\n",
       " ['<s>', 'bright', 'green', '</s>'],\n",
       " ['<s>', 'lighter/brighter', 'green', '</s>'],\n",
       " ['<s>', 'brightest', 'green', '</s>'],\n",
       " ['<s>', 'green,', 'light', '</s>'],\n",
       " ['<s>', 'darker', 'green', '</s>'],\n",
       " ['<s>', 'yellowish', 'green', '</s>'],\n",
       " ['<s>', 'light', 'purple', '</s>'],\n",
       " ['<s>', 'light', 'purple', '</s>'],\n",
       " ['<s>', 'bright', 'green', '</s>'],\n",
       " ['<s>', 'greenish', 'blue', '</s>'],\n",
       " ['<s>', 'light', 'brown', '</s>'],\n",
       " ['<s>', 'darkish', 'magenta', '</s>'],\n",
       " ['<s>', 'light', 'brown', '</s>'],\n",
       " ['<s>', 'greenish', 'yellow', '</s>'],\n",
       " ['<s>', 'light', 'green', '</s>'],\n",
       " ['<s>', 'bright', 'purple', '</s>'],\n",
       " ['<s>', 'faded', 'green', '</s>'],\n",
       " ['<s>', 'light', 'purple', '</s>'],\n",
       " ['<s>', 'light', 'purple', '</s>'],\n",
       " ['<s>', 'light', 'green', '</s>'],\n",
       " ['<s>', 'yellowish', 'brown', '</s>'],\n",
       " ['<s>', 'bright', 'blue', '</s>'],\n",
       " ['<s>', 'brightish', 'green', '</s>'],\n",
       " ['<s>', 'light', 'blue', '</s>'],\n",
       " ['<s>', 'faded', 'purple', '</s>'],\n",
       " ['<s>', 'brownish', 'gray', '</s>'],\n",
       " ['<s>', 'brownish', 'purple', '</s>'],\n",
       " ['<s>', 'bright', 'green', '</s>'],\n",
       " ['<s>', 'bright', 'green', '</s>'],\n",
       " ['<s>', 'darker', 'yellowish', '</s>'],\n",
       " ['<s>', 'blue', 'grey', '</s>'],\n",
       " ['<s>', 'brighter', 'green', '</s>'],\n",
       " ['<s>', 'dull', 'green', '</s>'],\n",
       " ['<s>', 'dullest', 'green', '</s>'],\n",
       " ['<s>', 'yellow', 'green', '</s>'],\n",
       " ['<s>', 'pinkish', 'purple', '</s>'],\n",
       " ['<s>', 'royal', 'blue', '</s>'],\n",
       " ['<s>', 'dull', 'orange', '</s>'],\n",
       " ['<s>', 'royal', 'blue', '</s>'],\n",
       " ['<s>', 'grayest', 'one', '</s>'],\n",
       " ['<s>', 'browner', 'gray', '</s>'],\n",
       " ['<s>', 'yellow', 'green', '</s>'],\n",
       " ['<s>', 'brighter', 'pink', '</s>'],\n",
       " ['<s>', 'yellow', 'green', '</s>'],\n",
       " ['<s>', 'brownish', 'gray', '</s>'],\n",
       " ['<s>', 'gray', 'brown', '</s>'],\n",
       " ['<s>', 'darkest', 'one', '</s>'],\n",
       " ['<s>', 'pinkish', 'purple', '</s>'],\n",
       " ['<s>', 'bright', 'orange', '</s>'],\n",
       " ['<s>', 'light', 'blue', '</s>'],\n",
       " ['<s>', 'darker', 'blue', '</s>'],\n",
       " ['<s>', 'Muted', 'color.', '</s>'],\n",
       " ['<s>', 'Bright', 'color.', '</s>'],\n",
       " ['<s>', 'Bright', 'color.', '</s>'],\n",
       " ['<s>', 'Bright', 'lipstick!', '</s>'],\n",
       " ['<s>', 'blunder', 'years?', '</s>'],\n",
       " ['<s>', 'Stormy', 'sky', '</s>'],\n",
       " ['<s>', 'toddler', 'poo', '</s>'],\n",
       " ['<s>', 'toddler', 'poo', '</s>'],\n",
       " ['<s>', 'sunny', 'sky', '</s>'],\n",
       " ['<s>', 'blunder', 'years', '</s>'],\n",
       " ['<s>', 'toddler', 'poo', '</s>'],\n",
       " ['<s>', 'muted', 'grass', '</s>'],\n",
       " ['<s>', 'last', 'one', '</s>'],\n",
       " ['<s>', 'Purplish', 'grey', '</s>'],\n",
       " ['<s>', 'Bright', 'purple', '</s>'],\n",
       " ['<s>', 'Bright', 'purple', '</s>'],\n",
       " ['<s>', 'Blue', 'green', '</s>'],\n",
       " ['<s>', 'Blue', 'green', '</s>'],\n",
       " ['<s>', 'Bright', 'yellow', '</s>'],\n",
       " ['<s>', 'Darkest', 'purple', '</s>'],\n",
       " ['<s>', 'bright', 'purple', '</s>'],\n",
       " ['<s>', 'Green', 'blue', '</s>'],\n",
       " ['<s>', 'Reddish', 'purple', '</s>'],\n",
       " ['<s>', 'bright', 'blue', '</s>'],\n",
       " ['<s>', 'pure', 'purple', '</s>'],\n",
       " ['<s>', 'light', 'purple', '</s>'],\n",
       " ['<s>', 'darker', 'purple', '</s>'],\n",
       " ['<s>', 'bright', 'green', '</s>'],\n",
       " ['<s>', 'dark', 'blue', '</s>'],\n",
       " ['<s>', 'light', 'blue', '</s>'],\n",
       " ['<s>', 'deep', 'purple', '</s>'],\n",
       " ['<s>', 'bluish', 'green', '</s>'],\n",
       " ['<s>', 'bright', 'purple', '</s>'],\n",
       " ['<s>', 'bright', 'green', '</s>'],\n",
       " ['<s>', 'bright', 'blue', '</s>'],\n",
       " ['<s>', 'brighter', 'green', '</s>'],\n",
       " ['<s>', 'brighter', 'purple', '</s>'],\n",
       " ['<s>', 'lime', 'green', '</s>'],\n",
       " ['<s>', 'brighter', 'purple', '</s>'],\n",
       " ['<s>', 'most', 'redish', '</s>'],\n",
       " ['<s>', 'brighter', 'purple', '</s>'],\n",
       " ['<s>', 'bright', 'purple', '</s>'],\n",
       " ['<s>', 'bright', 'green', '</s>'],\n",
       " ['<s>', 'bright', 'green', '</s>'],\n",
       " ['<s>', 'yellowish', 'green', '</s>'],\n",
       " ['<s>', 'greyish', 'purple', '</s>'],\n",
       " ['<s>', 'dark', 'green', '</s>'],\n",
       " ['<s>', 'darker', 'green', '</s>'],\n",
       " ['<s>', 'pale', 'purple', '</s>'],\n",
       " ['<s>', 'bright', 'purple', '</s>'],\n",
       " ['<s>', 'greyish/bluish', 'green', '</s>'],\n",
       " ['<s>', 'the', 'boldest', '</s>'],\n",
       " ['<s>', 'the', 'brightest', '</s>'],\n",
       " ['<s>', 'the', 'lightest', '</s>'],\n",
       " ['<s>', 'hot', 'pink', '</s>'],\n",
       " ['<s>', 'neon', 'green', '</s>'],\n",
       " ['<s>', 'neon', 'yellow.', '</s>'],\n",
       " ['<s>', 'the', 'greenest.', '</s>'],\n",
       " ['<s>', 'orange', 'est.', '</s>'],\n",
       " ['<s>', 'the', 'grayest', '</s>'],\n",
       " ['<s>', 'green', 'box', '</s>'],\n",
       " ['<s>', 'darkest', 'color', '</s>'],\n",
       " ['<s>', 'medium', 'color', '</s>'],\n",
       " ['<s>', 'bright', 'purple', '</s>'],\n",
       " ['<s>', 'darkest', 'color', '</s>'],\n",
       " ['<s>', 'brightest', 'color', '</s>'],\n",
       " ['<s>', 'bluest', 'purple', '</s>'],\n",
       " ['<s>', 'bright', 'red', '</s>'],\n",
       " ['<s>', 'brightest', 'blue', '</s>'],\n",
       " ['<s>', 'reddish', 'violet', '</s>'],\n",
       " ['<s>', 'lightest', 'blue', '</s>'],\n",
       " ['<s>', 'bluest', 'grey', '</s>'],\n",
       " ['<s>', 'moss', 'green', '</s>'],\n",
       " ['<s>', 'lightest', 'blue', '</s>'],\n",
       " ['<s>', 'grayish', 'purple', '</s>'],\n",
       " ['<s>', 'lightest', 'blue', '</s>'],\n",
       " ['<s>', 'most', 'purple', '</s>'],\n",
       " ['<s>', 'airport', 'carpet', '</s>'],\n",
       " ['<s>', 'most', 'purple', '</s>'],\n",
       " ['<s>', 'bluish', 'grey', '</s>'],\n",
       " ['<s>', 'palest', 'purple/blue', '</s>'],\n",
       " ['<s>', 'brightest', 'yellow', '</s>'],\n",
       " ['<s>', 'reddish', 'purple', '</s>'],\n",
       " ['<s>', 'pinkish', 'red', '</s>'],\n",
       " ['<s>', 'dark', 'pink', '</s>'],\n",
       " ['<s>', 'greyish', 'blue', '</s>'],\n",
       " ['<s>', 'bluish', 'green', '</s>'],\n",
       " ['<s>', 'seawater', 'green', '</s>'],\n",
       " ['<s>', 'brownish', 'grey', '</s>'],\n",
       " ['<s>', 'bluish', 'pink', '</s>'],\n",
       " ['<s>', 'highlighter', 'green', '</s>'],\n",
       " ['<s>', 'bluest', 'grey', '</s>'],\n",
       " ['<s>', 'pea', 'soup', '</s>'],\n",
       " ['<s>', 'not', 'orange*', '</s>'],\n",
       " ['<s>', 'brightest', 'red', '</s>'],\n",
       " ['<s>', 'true', 'gray', '</s>'],\n",
       " ['<s>', 'brighter', 'purple', '</s>'],\n",
       " ['<s>', 'darkest', 'purple', '</s>'],\n",
       " ['<s>', 'darkest', 'blue', '</s>'],\n",
       " ['<s>', 'lighter', 'orange', '</s>'],\n",
       " ['<s>', 'bright', 'turquoise', '###', 'not', 'dark', '</s>'],\n",
       " ['<s>', 'yellow', 'based', '</s>'],\n",
       " ['<s>', 'bright', 'green', '</s>'],\n",
       " ['<s>', 'dark', 'blue', '</s>'],\n",
       " ['<s>', 'lightest', 'purple', '</s>'],\n",
       " ['<s>', 'yellow', 'ish', '</s>'],\n",
       " ['<s>', 'dark', 'blue', '</s>'],\n",
       " ['<s>', 'bright', 'green', '###', 'bright', 'green', '</s>'],\n",
       " ['<s>', 'not', 'dark', '</s>'],\n",
       " ['<s>', 'wow', 'ummmm', '</s>'],\n",
       " ['<s>', 'not', 'bright', '</s>'],\n",
       " ['<s>', 'bright', 'green', '</s>'],\n",
       " ['<s>', 'dark', 'blue', '</s>'],\n",
       " ['<s>', 'hot', 'pink', '</s>'],\n",
       " ['<s>', 'light', 'color', '</s>'],\n",
       " ['<s>', 'gay', 'color', '</s>'],\n",
       " ['<s>', 'more', 'bright', '</s>'],\n",
       " ['<s>', 'cloud', 'color', '</s>'],\n",
       " ['<s>', 'dk', 'cloud', '</s>'],\n",
       " ['<s>', 'dk', 'cloud', '</s>'],\n",
       " ['<s>', 'flower', 'like', '</s>'],\n",
       " ['<s>', 'middle', 'color', '</s>'],\n",
       " ['<s>', 'bright', 'gay', '</s>'],\n",
       " ['<s>', 'baby', 'food', '</s>'],\n",
       " ['<s>', 'dull', 'girl', '</s>'],\n",
       " ['<s>', 'bright', 'boy', '</s>'],\n",
       " ['<s>', 'dull', 'gay', '</s>'],\n",
       " ['<s>', 'sky', 'cloudy', '</s>'],\n",
       " ['<s>', 'rose', 'like', '</s>'],\n",
       " ['<s>', 'girl', 'like', '</s>'],\n",
       " ['<s>', 'less', 'color', '</s>'],\n",
       " ['<s>', 'gay', 'color', '</s>'],\n",
       " ['<s>', 'baby', 'food', '</s>'],\n",
       " ['<s>', 'stand', 'out', '</s>'],\n",
       " ['<s>', 'vegetation', 'ish', '</s>'],\n",
       " ['<s>', 'vegie', 'like', '</s>'],\n",
       " ['<s>', 'no', 'color', '</s>'],\n",
       " ['<s>', 'Blueish', 'purple', '</s>'],\n",
       " ['<s>', 'Olive', 'green', '</s>'],\n",
       " ['<s>', 'Olive', 'green', '</s>'],\n",
       " ['<s>', 'Sky', 'blue', '</s>'],\n",
       " ['<s>', 'Brownish', 'gray', '</s>'],\n",
       " ['<s>', 'Brownish', 'gray', '</s>'],\n",
       " ['<s>', 'bright', 'green', '</s>'],\n",
       " ['<s>', 'grey/brownish', 'color.', '</s>'],\n",
       " ['<s>', 'highlight', 'blue', '</s>'],\n",
       " ['<s>', 'dark', 'green', '</s>'],\n",
       " ['<s>', 'highlight', 'green', '</s>'],\n",
       " ['<s>', 'dark', 'brown', '</s>'],\n",
       " ['<s>', 'not', 'lime', '</s>'],\n",
       " ['<s>', 'dark', 'green', '</s>'],\n",
       " ['<s>', 'bright', 'purple', '</s>'],\n",
       " ['<s>', 'bright', 'teal', '</s>'],\n",
       " ['<s>', 'dark', 'gold', '</s>'],\n",
       " ['<s>', 'bright', 'green', '</s>'],\n",
       " ['<s>', 'lime', 'color', '</s>'],\n",
       " ['<s>', 'dark', 'green', '</s>'],\n",
       " ['<s>', 'Purple', 'again.', '</s>'],\n",
       " ['<s>', 'Violet/Purple', 'one', '</s>'],\n",
       " ['<s>', 'Bright', 'Purple', '</s>'],\n",
       " ['<s>', 'Bright', 'Blue/Violet', '</s>'],\n",
       " ['<s>', 'Dingy', 'purple', '</s>'],\n",
       " ['<s>', 'Dingy', 'Blue', '</s>'],\n",
       " ['<s>', 'Bright', 'Purple', '</s>'],\n",
       " ['<s>', 'Dirty', 'Green', '</s>'],\n",
       " ['<s>', 'Bluest', 'one', '</s>'],\n",
       " ['<s>', 'Bright', 'Green.', '</s>'],\n",
       " ['<s>', 'lime', 'green', '</s>'],\n",
       " ['<s>', 'darker', 'grey', '</s>'],\n",
       " ['<s>', 'darker', 'purple', '</s>'],\n",
       " ['<s>', 'dull', 'purple', '</s>'],\n",
       " ['<s>', 'bright', 'green', '</s>'],\n",
       " ['<s>', 'royal', 'blue', '</s>'],\n",
       " ['<s>', 'same', 'color', '###', 'medium', 'grey', '</s>'],\n",
       " ['<s>', 'olive', 'shade', '</s>'],\n",
       " ['<s>', 'darkest', 'red', '</s>'],\n",
       " ['<s>', 'pumpkin', 'orange', '</s>'],\n",
       " ['<s>', 'bright', 'green', '</s>'],\n",
       " ['<s>', 'the', 'purple/lavender', '</s>'],\n",
       " ['<s>', 'bright', 'pink', '</s>'],\n",
       " ['<s>', 'bright', 'red', '</s>'],\n",
       " ['<s>', 'bright', 'pink', '</s>'],\n",
       " ['<s>', 'well', 'fuck', '</s>'],\n",
       " ['<s>', 'brightest', 'pink', '</s>'],\n",
       " ['<s>', 'brightest', 'red', '</s>'],\n",
       " ['<s>', 'light', 'blue', '</s>'],\n",
       " ['<s>', 'mint', 'green', '</s>'],\n",
       " ['<s>', 'lighter', 'blue', '</s>'],\n",
       " ['<s>', 'light', 'purple', '</s>'],\n",
       " ['<s>', 'darker', 'pink', '</s>'],\n",
       " ['<s>', 'brownish', 'grey', '</s>'],\n",
       " ['<s>', 'dark', 'lime', '</s>'],\n",
       " ['<s>', 'dark', 'blue', '</s>'],\n",
       " ['<s>', 'dark', 'yellow', '</s>'],\n",
       " ['<s>', 'bright', 'purple', '</s>'],\n",
       " ['<s>', 'light', 'blue', '</s>'],\n",
       " ['<s>', 'bright', 'green', '</s>'],\n",
       " ['<s>', 'blue', 'grey', '</s>'],\n",
       " ['<s>', 'darker', 'blue', '</s>'],\n",
       " ['<s>', 'lime', 'green', '</s>'],\n",
       " ['<s>', 'light', 'blue', '</s>'],\n",
       " ['<s>', 'bright', 'green', '</s>'],\n",
       " ['<s>', 'brighter', 'grey', '</s>'],\n",
       " ['<s>', 'blue', 'grey', '</s>'],\n",
       " ['<s>', 'pepto', 'pink', '</s>'],\n",
       " ['<s>', 'brighter', 'purple', '</s>'],\n",
       " ['<s>', 'green', 'grey', '</s>'],\n",
       " ['<s>', 'Irish', 'Green', '</s>'],\n",
       " ['<s>', 'Navy', 'Tan', '</s>'],\n",
       " ['<s>', 'Darker', 'Green', '</s>'],\n",
       " ['<s>', 'Lime', 'Green', '</s>'],\n",
       " ['<s>', 'Grass', 'Green', '</s>'],\n",
       " ['<s>', 'Clay', 'Red', '</s>'],\n",
       " ['<s>', 'Dark', 'Purple', '</s>'],\n",
       " ['<s>', 'Lime', 'Green', '</s>'],\n",
       " ['<s>', 'Lime', 'Green', '</s>'],\n",
       " ['<s>', 'Ocean', 'Blue', '</s>'],\n",
       " ['<s>', 'Grass', 'Green', '</s>'],\n",
       " ['<s>', 'Bright', 'Purple', '</s>'],\n",
       " ['<s>', 'Rock', 'Grey', '###', 'Dusty', 'Grey', '</s>'],\n",
       " ['<s>', 'Hot', 'Yellow', '###', 'Bright', 'Yellow', '</s>'],\n",
       " ['<s>', 'Darker', 'Blue', '</s>'],\n",
       " ['<s>', 'Sandy', 'Tan', '</s>'],\n",
       " ['<s>', 'The', 'ocean', '</s>'],\n",
       " ['<s>', 'the', 'sky', '</s>'],\n",
       " ['<s>', 'The', 'sky', '</s>'],\n",
       " ['<s>', 'grayish', 'blue', '</s>'],\n",
       " ['<s>', 'purplish', 'gray', '</s>'],\n",
       " ['<s>', 'lightest', 'blue', '</s>'],\n",
       " ['<s>', 'lime', 'green', '</s>'],\n",
       " ['<s>', 'greyish', 'green', '</s>'],\n",
       " ['<s>', 'greyish', 'orange', '</s>'],\n",
       " ['<s>', 'vibrant', 'purple', '</s>'],\n",
       " ['<s>', 'true', 'blue', '</s>'],\n",
       " ['<s>', 'more', 'red', '</s>'],\n",
       " ['<s>', 'orange', 'red', '###', 'vibrant', 'one', '</s>'],\n",
       " ['<s>', 'dull', 'green', '###', 'looks', 'yellow', '</s>'],\n",
       " ['<s>', 'lime', 'green?', '###', 'really', 'vibrant', '</s>'],\n",
       " ['<s>', 'greyish', 'green', '</s>'],\n",
       " ['<s>', 'darker', 'green', '</s>'],\n",
       " ['<s>', 'lighter', 'purple', '###', 'yeah', 'same', '</s>'],\n",
       " ['<s>', 'vibrant', 'green', '</s>'],\n",
       " ['<s>', 'hot', 'pink', '</s>'],\n",
       " ['<s>', 'greenish', 'one', '</s>'],\n",
       " ['<s>', 'greyish', 'one', '</s>'],\n",
       " ['<s>', 'light', 'green', '</s>'],\n",
       " ['<s>', 'lime', 'green', '</s>'],\n",
       " ['<s>', 'lime', 'green', '</s>'],\n",
       " ['<s>', 'cyan', 'bright', '</s>'],\n",
       " ['<s>', 'mustard', 'yellow', '</s>'],\n",
       " ['<s>', 'pick', 'red', '</s>'],\n",
       " ['<s>', 'pink', 'brightest', '</s>'],\n",
       " ['<s>', 'bold', 'purple', '</s>'],\n",
       " ['<s>', 'army', 'green', '</s>'],\n",
       " ['<s>', 'bold', 'pink', '</s>'],\n",
       " ['<s>', 'bold', 'orange', '</s>'],\n",
       " ['<s>', 'greyish', 'greenish', '</s>'],\n",
       " ['<s>', 'bold', 'green', '</s>'],\n",
       " ['<s>', 'bold', 'yellow/green', '</s>'],\n",
       " ['<s>', 'dark', 'blue', '</s>'],\n",
       " ['<s>', 'light', 'blue', '</s>'],\n",
       " ['<s>', 'army', 'green', '</s>'],\n",
       " ['<s>', 'bright', 'orange', '</s>'],\n",
       " ['<s>', 'bold', 'purple', '</s>'],\n",
       " ['<s>', 'purple', 'girly', '</s>'],\n",
       " ['<s>', 'not', 'blue', '</s>'],\n",
       " ['<s>', 'saturated', 'green', '</s>'],\n",
       " ['<s>', 'dull', 'color', '</s>'],\n",
       " ['<s>', 'not', 'blue', '</s>'],\n",
       " ['<s>', 'the', 'turquoise', '</s>'],\n",
       " ['<s>', 'yellow', 'green?', '</s>'],\n",
       " ['<s>', 'pale', 'orange', '</s>'],\n",
       " ['<s>', 'haha', 'maybe', '</s>'],\n",
       " ['<s>', 'not', 'blue', '</s>'],\n",
       " ['<s>', 'dull', 'color', '</s>'],\n",
       " ['<s>', 'bright', 'purple', '</s>'],\n",
       " ['<s>', 'light', 'green', '</s>'],\n",
       " ['<s>', 'dull', 'turquoise', '</s>'],\n",
       " ['<s>', 'bright', 'blue', '</s>'],\n",
       " ['<s>', 'yellow', 'orange', '</s>'],\n",
       " ['<s>', 'magenta', 'pink', '</s>'],\n",
       " ['<s>', 'dull', 'red', '</s>'],\n",
       " ['<s>', 'light', 'blue', '</s>'],\n",
       " ['<s>', 'saturated', 'green', '</s>'],\n",
       " ['<s>', 'turquoise', 'blue', '</s>'],\n",
       " ['<s>', 'spring', 'green', '</s>'],\n",
       " ['<s>', 'dark', 'pink', '</s>'],\n",
       " ['<s>', 'mid', 'pink', '</s>'],\n",
       " ['<s>', 'mid', 'gray', '</s>'],\n",
       " ['<s>', 'mid', 'pink', '</s>'],\n",
       " ['<s>', 'light', 'urple', '</s>'],\n",
       " ['<s>', 'dark', 'green', '</s>'],\n",
       " ['<s>', 'grass', 'green', '</s>'],\n",
       " ['<s>', 'army', 'green', '</s>'],\n",
       " ['<s>', 'hot', 'pink', '</s>'],\n",
       " ['<s>', 'fluorescent', 'green', '</s>'],\n",
       " ['<s>', 'blue', 'water', '</s>'],\n",
       " ['<s>', 'steel', 'grey/blue', '</s>'],\n",
       " ['<s>', 'blue', 'water', '</s>'],\n",
       " ['<s>', 'fluorescent', 'lime', '</s>'],\n",
       " ['<s>', 'fluorescnet', 'lime', '</s>'],\n",
       " ['<s>', 'darker', 'grey', '</s>'],\n",
       " ['<s>', 'lime', 'green', '</s>'],\n",
       " ['<s>', 'fluorescent', 'lime', '</s>'],\n",
       " ['<s>', 'tan,', 'brown', '</s>'],\n",
       " ['<s>', 'grey', 'steel', '</s>'],\n",
       " ['<s>', 'bright', 'purple', '</s>'],\n",
       " ['<s>', 'bright', 'green', '</s>'],\n",
       " ['<s>', 'bright', 'purple', '</s>'],\n",
       " ['<s>', 'medium', 'blue', '</s>'],\n",
       " ['<s>', 'puplish', 'grey', '</s>'],\n",
       " ['<s>', 'dark', 'green', '</s>'],\n",
       " ['<s>', 'blackish', 'grey', '</s>'],\n",
       " ['<s>', 'brownish', 'orange', '</s>'],\n",
       " ['<s>', 'bluish', 'purple', '</s>'],\n",
       " ['<s>', 'bright', 'green', '</s>'],\n",
       " ['<s>', 'bright', 'purple', '</s>'],\n",
       " ['<s>', 'light', 'blue', '</s>'],\n",
       " ['<s>', 'bright', 'blue', '</s>'],\n",
       " ['<s>', 'bright', 'purple', '</s>'],\n",
       " ['<s>', 'yellowish', 'green', '</s>'],\n",
       " ['<s>', 'bright', 'blue', '</s>'],\n",
       " ['<s>', 'bright', 'green', '</s>'],\n",
       " ['<s>', 'greyish', 'green', '</s>'],\n",
       " ['<s>', 'dark', 'green', '</s>'],\n",
       " ['<s>', 'dull', 'green', '</s>'],\n",
       " ['<s>', 'Brightest', 'green', '</s>'],\n",
       " ['<s>', 'Greenish', 'yellow', '</s>'],\n",
       " ['<s>', 'Dull', 'green', '</s>'],\n",
       " ['<s>', 'Greyish', 'purple', '</s>'],\n",
       " ['<s>', 'Blue-ish', 'purple', '</s>'],\n",
       " ['<s>', 'Dull', 'green', '</s>'],\n",
       " ['<s>', 'Duller', 'pink', '</s>'],\n",
       " ['<s>', 'Brightest', 'purple', '</s>'],\n",
       " ['<s>', 'Brightest', 'green', '</s>'],\n",
       " ['<s>', 'Darker', 'blue', '</s>'],\n",
       " ['<s>', 'Dullest', 'green', '</s>'],\n",
       " ['<s>', 'Bright', 'green', '</s>'],\n",
       " ['<s>', 'neon', 'pink', '</s>'],\n",
       " ['<s>', 'rose', 'pink', '</s>'],\n",
       " ['<s>', 'darker', 'blue', '</s>'],\n",
       " ['<s>', 'bright', 'orange', '</s>'],\n",
       " ['<s>', 'slate', 'gray', '</s>'],\n",
       " ['<s>', 'dark', 'blue', '</s>'],\n",
       " ['<s>', 'bright', 'yellow', '</s>'],\n",
       " ['<s>', 'brighter', 'blue', '</s>'],\n",
       " ['<s>', 'brighter', 'pink', '</s>'],\n",
       " ['<s>', 'drab', 'green', '</s>'],\n",
       " ['<s>', 'bright', 'purple', '</s>'],\n",
       " ['<s>', 'rose', 'pink', '</s>'],\n",
       " ['<s>', 'most', 'blue', '</s>'],\n",
       " ['<s>', 'brightest', 'pink/red', '</s>'],\n",
       " ['<s>', 'Thank', 'you', '</s>'],\n",
       " ['<s>', 'haha', 'nice', '</s>'],\n",
       " ['<s>', 'teal', 'blue', '</s>'],\n",
       " ['<s>', 'ish', 'purple', '</s>'],\n",
       " ['<s>', 'bright', 'purple', '</s>'],\n",
       " ['<s>', 'brighttttt', 'purple', '</s>'],\n",
       " ['<s>', 'purplest', 'purple', '</s>'],\n",
       " ['<s>', 'brownish', 'yellow', '</s>'],\n",
       " ['<s>', 'reddish', 'pinkish', '</s>'],\n",
       " ['<s>', 'bright', 'purple', '</s>'],\n",
       " ['<s>', 'cape', 'coral', '</s>'],\n",
       " ['<s>', 'Think', 'fruit.', '</s>'],\n",
       " ['<s>', 'Think', 'bright!', '</s>'],\n",
       " ['<s>', \"Grass'\", 'color.', '</s>'],\n",
       " ['<s>', 'evening', 'sky', '</s>'],\n",
       " ['<s>', 'bland', 'boring', '</s>'],\n",
       " ['<s>', 'beautiful', 'sky', '</s>'],\n",
       " ['<s>', 'evening', 'sky', '</s>'],\n",
       " ['<s>', 'bright', 'hot', '</s>'],\n",
       " ['<s>', 'dark', 'sunflower', '</s>'],\n",
       " ['<s>', 'hmmm', 'dark', '</s>'],\n",
       " ['<s>', 'not', 'hot', '</s>'],\n",
       " ['<s>', 'light', 'sky', '</s>'],\n",
       " ['<s>', 'pastel', 'grass', '</s>'],\n",
       " ['<s>', 'dull', 'neutral', '</s>'],\n",
       " ['<s>', 'light', 'sky', '</s>'],\n",
       " ['<s>', 'dark', 'flower', '###', 'smells', 'relaxing', '</s>'],\n",
       " ['<s>', 'bright', 'hot', '</s>'],\n",
       " ['<s>', 'oops', 'sky', '</s>'],\n",
       " ['<s>', 'bright', 'glowing', '</s>'],\n",
       " ['<s>', 'sea', 'water', '</s>'],\n",
       " ['<s>', 'medium', 'cheeks', '</s>'],\n",
       " ['<s>', 'dark', 'sky', '</s>'],\n",
       " ['<s>', 'grass', 'dark', '</s>'],\n",
       " ['<s>', 'dark', 'grass', '</s>'],\n",
       " ['<s>', 'pale', 'grass', '</s>'],\n",
       " ['<s>', 'hot', 'pink', '</s>'],\n",
       " ['<s>', 'dark', 'purple', '</s>'],\n",
       " ['<s>', 'apple', 'green', '</s>'],\n",
       " ['<s>', 'deeper', 'purple', '</s>'],\n",
       " ['<s>', 'deeper', 'purple', '</s>'],\n",
       " ['<s>', 'brighter', 'purple', '</s>'],\n",
       " ['<s>', 'darker', 'green', '</s>'],\n",
       " ['<s>', 'normal', 'green', '</s>'],\n",
       " ['<s>', 'more', 'pink', '</s>'],\n",
       " ['<s>', 'bright', 'pink', '</s>'],\n",
       " ['<s>', 'dullest', 'green', '</s>'],\n",
       " ['<s>', 'more', 'purple', '</s>'],\n",
       " ['<s>', 'brightest', 'pink', '</s>'],\n",
       " ['<s>', 'sea', 'green', '</s>'],\n",
       " ['<s>', 'more', 'blue', '</s>'],\n",
       " ['<s>', 'more', 'green', '</s>'],\n",
       " ['<s>', 'olive', 'green', '</s>'],\n",
       " ['<s>', 'pinker', 'purple', '</s>'],\n",
       " ['<s>', 'sea', 'foam', '</s>'],\n",
       " ['<s>', 'bright', 'pink', '</s>'],\n",
       " ['<s>', 'normal', 'yellow', '</s>'],\n",
       " ['<s>', 'dull', 'purple', '</s>'],\n",
       " ['<s>', 'normal', 'green', '</s>'],\n",
       " ['<s>', 'duller', 'brown', '</s>'],\n",
       " ['<s>', 'more', 'purple', '</s>'],\n",
       " ['<s>', 'dark', 'blue', '</s>'],\n",
       " ['<s>', 'bright', 'pink', '</s>'],\n",
       " ['<s>', 'sky', 'blue', '</s>'],\n",
       " ['<s>', 'hot', 'pink', '</s>'],\n",
       " ['<s>', 'gray', 'blue', '</s>'],\n",
       " ['<s>', 'neon', 'green', '</s>'],\n",
       " ['<s>', 'elephant', 'gray', '</s>'],\n",
       " ['<s>', 'no', 'worries', '</s>'],\n",
       " ['<s>', 'smog', 'gray', '</s>'],\n",
       " ['<s>', 'smog', 'gray', '###', 'green', 'tint', '</s>'],\n",
       " ['<s>', 'brownish', 'gray', '</s>'],\n",
       " ['<s>', 'rose', 'pink', '</s>'],\n",
       " ['<s>', 'bright', 'pink', '</s>'],\n",
       " ['<s>', 'brown', 'tan', '</s>'],\n",
       " ['<s>', 'green', 'gray', '</s>'],\n",
       " ['<s>', 'bright', 'purple', '</s>'],\n",
       " ['<s>', 'hot', 'pink', '</s>'],\n",
       " ['<s>', 'bright', 'blue', '</s>'],\n",
       " ['<s>', 'yellow', 'tan', '</s>'],\n",
       " ['<s>', 'pee', 'yellow', '</s>'],\n",
       " ['<s>', 'lighter', 'orange', '</s>'],\n",
       " ['<s>', 'pee', 'yellow', '###', 'light', 'green', '</s>'],\n",
       " ['<s>', 'red', 'brown', '###', 'pinky', 'brown', '</s>'],\n",
       " ['<s>', 'pure', 'gray', '</s>'],\n",
       " ['<s>', 'purply', 'pink', '</s>'],\n",
       " ['<s>', 'bright', 'blue', '</s>'],\n",
       " ['<s>', 'blue', 'gray', '</s>'],\n",
       " ['<s>', 'light', 'purple', '</s>'],\n",
       " ['<s>', 'dull', 'pink', '</s>'],\n",
       " ['<s>', 'bright', 'blue', '</s>'],\n",
       " ['<s>', 'hot', 'pink', '</s>'],\n",
       " ['<s>', 'dull', 'green', '</s>'],\n",
       " ['<s>', 'light', 'brown', '</s>'],\n",
       " ['<s>', 'brightest', 'purple', '</s>'],\n",
       " ['<s>', 'darker', 'brown', '</s>'],\n",
       " ['<s>', 'darker', 'purple', '</s>'],\n",
       " ['<s>', 'royal', 'blue', '</s>'],\n",
       " ['<s>', 'darker', 'purple', '</s>'],\n",
       " ['<s>', 'faded', 'pink', '</s>'],\n",
       " ['<s>', 'hot', 'pink', '</s>'],\n",
       " ['<s>', 'light', 'brown', '</s>'],\n",
       " ['<s>', 'brown', 'grey', '</s>'],\n",
       " ['<s>', 'good', 'job', '</s>'],\n",
       " ['<s>', 'its', 'ok', '</s>'],\n",
       " ['<s>', 'bright', 'green', '</s>'],\n",
       " ['<s>', 'no', 'yellow', '</s>'],\n",
       " ['<s>', 'deep', 'purple', '</s>'],\n",
       " ['<s>', 'neon', 'yellow', '</s>'],\n",
       " ['<s>', 'woot', 'woot', '</s>'],\n",
       " ['<s>', 'light', 'purple', '</s>'],\n",
       " ['<s>', 'np', ':-)', '</s>'],\n",
       " ['<s>', 'aqua', 'blue', '</s>'],\n",
       " ['<s>', 'darker', 'purple', '</s>'],\n",
       " ['<s>', 'off', 'red?', '</s>'],\n",
       " ['<s>', 'sky', 'blue', '</s>'],\n",
       " ['<s>', 'bright', 'green', '</s>'],\n",
       " ['<s>', 'olive', 'green', '</s>'],\n",
       " ['<s>', 'sky', 'blue', '</s>'],\n",
       " ['<s>', 'bright', 'pink', '</s>'],\n",
       " ['<s>', 'hot', 'pink', '</s>'],\n",
       " ['<s>', 'bright', 'green', '</s>'],\n",
       " ['<s>', 'bright', 'red/orange', '</s>'],\n",
       " ...]"
      ]
     },
     "execution_count": 118,
     "metadata": {},
     "output_type": "execute_result"
    }
   ],
   "source": [
    "dev_word_seqs"
   ]
  },
  {
   "cell_type": "markdown",
   "metadata": {},
   "source": [
    "We'll use a random train–test split:"
   ]
  },
  {
   "cell_type": "code",
   "execution_count": 119,
   "metadata": {},
   "outputs": [],
   "source": [
    "dev_cols_train, dev_cols_test, dev_word_seqs_train, dev_word_seqs_test = \\\n",
    "    train_test_split(dev_cols, dev_word_seqs)"
   ]
  },
  {
   "cell_type": "markdown",
   "metadata": {},
   "source": [
    "Our vocab is determined by the train set, and we take care to include the `$UNK` token:"
   ]
  },
  {
   "cell_type": "code",
   "execution_count": 120,
   "metadata": {},
   "outputs": [],
   "source": [
    "dev_vocab = sorted({w for toks in dev_word_seqs_train for w in toks})\n",
    "\n",
    "dev_vocab += [UNK_SYMBOL]"
   ]
  },
  {
   "cell_type": "markdown",
   "metadata": {},
   "source": [
    "And now we're ready to train a model:"
   ]
  },
  {
   "cell_type": "code",
   "execution_count": 122,
   "metadata": {},
   "outputs": [],
   "source": [
    "dev_mod = ContextualColorDescriber(\n",
    "    dev_vocab,\n",
    "    embed_dim=10,\n",
    "    hidden_dim=10,\n",
    "    early_stopping=True)"
   ]
  },
  {
   "cell_type": "code",
   "execution_count": 123,
   "metadata": {},
   "outputs": [
    {
     "name": "stderr",
     "output_type": "stream",
     "text": [
      "Stopping after epoch 17. Validation score did not improve by tol=1e-05 for more than 10 epochs. Final error is 57.85593795776367"
     ]
    },
    {
     "name": "stdout",
     "output_type": "stream",
     "text": [
      "Wall time: 49.4 s\n"
     ]
    }
   ],
   "source": [
    "%time _ = dev_mod.fit(dev_cols_train, dev_word_seqs_train)"
   ]
  },
  {
   "cell_type": "markdown",
   "metadata": {},
   "source": [
    "And finally an evaluation in terms of listener accuracy and BLEU scores. The `evaluate` method combines these:"
   ]
  },
  {
   "cell_type": "code",
   "execution_count": 124,
   "metadata": {},
   "outputs": [],
   "source": [
    "dev_mod_eval = dev_mod.evaluate(dev_cols_test, dev_word_seqs_test)"
   ]
  },
  {
   "cell_type": "code",
   "execution_count": 125,
   "metadata": {},
   "outputs": [
    {
     "data": {
      "text/plain": [
       "0.367117765620501"
      ]
     },
     "execution_count": 125,
     "metadata": {},
     "output_type": "execute_result"
    }
   ],
   "source": [
    "dev_mod_eval['listener_accuracy']"
   ]
  },
  {
   "cell_type": "code",
   "execution_count": 126,
   "metadata": {},
   "outputs": [
    {
     "data": {
      "text/plain": [
       "0.05830693924560899"
      ]
     },
     "execution_count": 126,
     "metadata": {},
     "output_type": "execute_result"
    }
   ],
   "source": [
    "dev_mod_eval['corpus_bleu']"
   ]
  },
  {
   "cell_type": "markdown",
   "metadata": {},
   "source": [
    "## Modifying the core model"
   ]
  },
  {
   "cell_type": "markdown",
   "metadata": {},
   "source": [
    "The first few assignment problems concern how you preprocess the data for your model. After that, the goal is to subclass model components in `torch_color_describer.py`. For the bake-off submission, you can do whatever you like in terms of modeling, but my hope is that you'll be able to continue subclassing based on `torch_color_describer.py`.\n",
    "\n",
    "This section provides some illustrative examples designed to give you a feel for how the code is structured and what your options are in terms of creating subclasses. The principles are the same as those reviewed for a wider range of models in [tutorial_pytorch_models.ipynb](tutorial_pytorch_models.ipynb)."
   ]
  },
  {
   "cell_type": "markdown",
   "metadata": {},
   "source": [
    "### Illustration: LSTM Cells"
   ]
  },
  {
   "cell_type": "markdown",
   "metadata": {},
   "source": [
    "Both the `Encoder` and the `Decoder` of `torch_color_describer` are currently GRU cells. Switching to another cell type is easy:"
   ]
  },
  {
   "cell_type": "markdown",
   "metadata": {},
   "source": [
    "__Step 1__: Subclass the `Encoder`; all we have to do here is change `GRU` from the original to `LSTM`:"
   ]
  },
  {
   "cell_type": "code",
   "execution_count": 131,
   "metadata": {},
   "outputs": [],
   "source": [
    "import torch.nn as nn\n",
    "from torch_color_describer import Encoder\n",
    "\n",
    "class LSTMEncoder(Encoder):\n",
    "    def __init__(self, color_dim, hidden_dim):\n",
    "        super().__init__(color_dim, hidden_dim)\n",
    "        self.rnn = nn.LSTM(\n",
    "            input_size=self.color_dim,\n",
    "            hidden_size=self.hidden_dim,\n",
    "            batch_first=True)"
   ]
  },
  {
   "cell_type": "markdown",
   "metadata": {},
   "source": [
    "__Step 2__: Subclass the `Decoder`, making the same simple change as above:"
   ]
  },
  {
   "cell_type": "code",
   "execution_count": 132,
   "metadata": {},
   "outputs": [],
   "source": [
    "import torch.nn as nn\n",
    "from torch_color_describer import Encoder, Decoder\n",
    "\n",
    "class LSTMDecoder(Decoder):\n",
    "    def __init__(self, *args, **kwargs):\n",
    "        super().__init__(*args, **kwargs)\n",
    "        self.rnn = nn.LSTM(\n",
    "            input_size=self.embed_dim,\n",
    "            hidden_size=self.hidden_dim,\n",
    "            batch_first=True)"
   ]
  },
  {
   "cell_type": "markdown",
   "metadata": {},
   "source": [
    "__Step 3__:`ContextualColorDescriber` has a method called `build_graph` that sets up the `Encoder` and `Decoder`. The needed revision just uses `LSTMEncoder`:"
   ]
  },
  {
   "cell_type": "code",
   "execution_count": 133,
   "metadata": {},
   "outputs": [],
   "source": [
    "from torch_color_describer import EncoderDecoder\n",
    "\n",
    "class LSTMContextualColorDescriber(ContextualColorDescriber):\n",
    "\n",
    "    def build_graph(self):\n",
    "\n",
    "        # Use the new Encoder:\n",
    "        encoder = LSTMEncoder(\n",
    "            color_dim=self.color_dim,\n",
    "            hidden_dim=self.hidden_dim)\n",
    "\n",
    "        # Use the new Decoder:\n",
    "        decoder = LSTMDecoder(\n",
    "            vocab_size=self.vocab_size,\n",
    "            embed_dim=self.embed_dim,\n",
    "            embedding=self.embedding,\n",
    "            hidden_dim=self.hidden_dim)\n",
    "\n",
    "        return EncoderDecoder(encoder, decoder)"
   ]
  },
  {
   "cell_type": "markdown",
   "metadata": {},
   "source": [
    "Here's an example run:"
   ]
  },
  {
   "cell_type": "code",
   "execution_count": 134,
   "metadata": {},
   "outputs": [],
   "source": [
    "lstm_mod = LSTMContextualColorDescriber(\n",
    "    toy_vocab,\n",
    "    embed_dim=10,\n",
    "    hidden_dim=10)"
   ]
  },
  {
   "cell_type": "code",
   "execution_count": 135,
   "metadata": {},
   "outputs": [
    {
     "name": "stderr",
     "output_type": "stream",
     "text": [
      "Finished epoch 1000 of 1000; error is 0.12768791615962982"
     ]
    }
   ],
   "source": [
    "_ = lstm_mod.fit(toy_color_seqs_train, toy_word_seqs_train)"
   ]
  },
  {
   "cell_type": "code",
   "execution_count": 136,
   "metadata": {},
   "outputs": [
    {
     "data": {
      "text/plain": [
       "1.0"
      ]
     },
     "execution_count": 136,
     "metadata": {},
     "output_type": "execute_result"
    }
   ],
   "source": [
    "lstm_mod.listener_accuracy(toy_color_seqs_test, toy_word_seqs_test)"
   ]
  },
  {
   "cell_type": "markdown",
   "metadata": {},
   "source": [
    "### Illustration: Deeper models"
   ]
  },
  {
   "cell_type": "markdown",
   "metadata": {},
   "source": [
    "The `Encoder` and `Decoder` are both currently hard-coded to have just one hidden layer. It is straightforward to make them deeper as long as we ensure that both the `Encoder` and `Decoder` have the same depth; since the `Encoder` final states are the initial hidden states for the `Decoder`, we need this alignment. \n",
    "\n",
    "(Strictly speaking, we could have different numbers of `Encoder` and `Decoder` layers, as long as we did some kind of averaging or copying to achieve the hand-off from `Encoder` to `Decocer`. I'll set this possibility aside.)"
   ]
  },
  {
   "cell_type": "markdown",
   "metadata": {},
   "source": [
    "__Step 1__: We need to subclass the `Encoder` and `Decoder` so that they have `num_layers` argument that is fed into the RNN cell:"
   ]
  },
  {
   "cell_type": "code",
   "execution_count": 137,
   "metadata": {},
   "outputs": [],
   "source": [
    "import torch.nn as nn\n",
    "from torch_color_describer import Encoder, Decoder\n",
    "\n",
    "class DeepEncoder(Encoder):\n",
    "    def __init__(self, *args, num_layers=2, **kwargs):\n",
    "        super().__init__(*args, **kwargs)\n",
    "        self.num_layers = num_layers\n",
    "        self.rnn = nn.GRU(\n",
    "            input_size=self.color_dim,\n",
    "            hidden_size=self.hidden_dim,\n",
    "            num_layers=self.num_layers,\n",
    "            batch_first=True)\n",
    "\n",
    "\n",
    "class DeepDecoder(Decoder):\n",
    "    def __init__(self, *args, num_layers=2, **kwargs):\n",
    "        super().__init__(*args, **kwargs)\n",
    "        self.num_layers = num_layers\n",
    "        self.rnn = nn.GRU(\n",
    "            input_size=self.embed_dim,\n",
    "            hidden_size=self.hidden_dim,\n",
    "            num_layers=self.num_layers,\n",
    "            batch_first=True)"
   ]
  },
  {
   "cell_type": "markdown",
   "metadata": {},
   "source": [
    "__Step 2__: As before, we need to update the `build_graph` method of `ContextualColorDescriber`. The needed revision just uses `DeepEncoder` and `DeepDecoder`. To expose this new argument to the user, we also add a new keyword argument to `ContextualColorDescriber`:"
   ]
  },
  {
   "cell_type": "code",
   "execution_count": 142,
   "metadata": {},
   "outputs": [],
   "source": [
    "from torch_color_describer import EncoderDecoder\n",
    "\n",
    "class DeepContextualColorDescriber(ContextualColorDescriber):\n",
    "    def __init__(self, *args, num_layers=2, **kwargs):\n",
    "        self.num_layers = num_layers\n",
    "        super().__init__(*args, **kwargs)\n",
    "\n",
    "    def build_graph(self):\n",
    "        encoder = DeepEncoder(\n",
    "            color_dim=self.color_dim,\n",
    "            hidden_dim=self.hidden_dim,\n",
    "            num_layers=self.num_layers)  # The new piece is this argument.\n",
    "\n",
    "        decoder = DeepDecoder(\n",
    "            vocab_size=self.vocab_size,\n",
    "            embed_dim=self.embed_dim,\n",
    "            embedding=self.embedding,\n",
    "            hidden_dim=self.hidden_dim,\n",
    "            num_layers=self.num_layers)  # The new piece is this argument.\n",
    "\n",
    "        return EncoderDecoder(encoder, decoder)"
   ]
  },
  {
   "cell_type": "markdown",
   "metadata": {},
   "source": [
    "An example/test run:"
   ]
  },
  {
   "cell_type": "code",
   "execution_count": 139,
   "metadata": {},
   "outputs": [],
   "source": [
    "mod_deep = DeepContextualColorDescriber(\n",
    "    toy_vocab,\n",
    "    embed_dim=10,\n",
    "    hidden_dim=10)"
   ]
  },
  {
   "cell_type": "code",
   "execution_count": 140,
   "metadata": {},
   "outputs": [
    {
     "name": "stderr",
     "output_type": "stream",
     "text": [
      "Finished epoch 1000 of 1000; error is 0.13621607422828674"
     ]
    }
   ],
   "source": [
    "_ = mod_deep.fit(toy_color_seqs_train, toy_word_seqs_train)"
   ]
  },
  {
   "cell_type": "code",
   "execution_count": 141,
   "metadata": {},
   "outputs": [
    {
     "data": {
      "text/plain": [
       "1.0"
      ]
     },
     "execution_count": 141,
     "metadata": {},
     "output_type": "execute_result"
    }
   ],
   "source": [
    "mod_deep.listener_accuracy(toy_color_seqs_test, toy_word_seqs_test)"
   ]
  }
 ],
 "metadata": {
  "kernelspec": {
   "display_name": "Python 3",
   "language": "python",
   "name": "python3"
  },
  "language_info": {
   "codemirror_mode": {
    "name": "ipython",
    "version": 3
   },
   "file_extension": ".py",
   "mimetype": "text/x-python",
   "name": "python",
   "nbconvert_exporter": "python",
   "pygments_lexer": "ipython3",
   "version": "3.8.5"
  }
 },
 "nbformat": 4,
 "nbformat_minor": 4
}
